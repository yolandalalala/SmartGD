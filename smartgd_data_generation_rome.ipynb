{
 "cells": [
  {
   "cell_type": "code",
   "metadata": {
    "collapsed": true,
    "ExecuteTime": {
     "end_time": "2024-07-21T09:50:18.503796Z",
     "start_time": "2024-07-21T09:50:18.490527Z"
    }
   },
   "source": [
    "%load_ext autoreload\n",
    "%autoreload 2"
   ],
   "outputs": [],
   "execution_count": 1
  },
  {
   "cell_type": "code",
   "source": [
    "import numpy as np\n",
    "import pandas as pd\n",
    "import networkx as nx\n",
    "from tqdm.auto import tqdm"
   ],
   "metadata": {
    "collapsed": false,
    "ExecuteTime": {
     "end_time": "2024-07-21T09:50:23.562173Z",
     "start_time": "2024-07-21T09:50:20.560933Z"
    }
   },
   "outputs": [],
   "execution_count": 2
  },
  {
   "cell_type": "code",
   "source": [
    "import smartgd.datasets\n",
    "import smartgd.data"
   ],
   "metadata": {
    "collapsed": false,
    "ExecuteTime": {
     "end_time": "2024-07-21T09:50:28.010177Z",
     "start_time": "2024-07-21T09:50:23.563089Z"
    }
   },
   "outputs": [],
   "execution_count": 3
  },
  {
   "cell_type": "code",
   "source": [
    "smartgd.data.GraphDrawingData.set_optional_fields([\"edge_pair_metaindex\", \"face\", \"rng\"])\n",
    "dataset = smartgd.datasets.RomeDataset(\n",
    "    index=pd.read_csv(\"assets/rome_index.txt\", header=None)[0],\n",
    ")"
   ],
   "metadata": {
    "collapsed": false,
    "ExecuteTime": {
     "end_time": "2024-07-21T09:50:48.252788Z",
     "start_time": "2024-07-21T09:50:39.151700Z"
    }
   },
   "outputs": [
    {
     "data": {
      "text/plain": [
       "Transform graphs:   0%|          | 0/11531 [00:00<?, ?it/s]"
      ],
      "application/vnd.jupyter.widget-view+json": {
       "version_major": 2,
       "version_minor": 0,
       "model_id": "225e6b3b5d1048599bd2a945a871ef01"
      }
     },
     "metadata": {},
     "output_type": "display_data"
    }
   ],
   "execution_count": 4
  },
  {
   "cell_type": "code",
   "source": "np.load(\"assets/rome_layouts/neato.npy\", allow_pickle=True)[1]",
   "metadata": {
    "collapsed": false,
    "ExecuteTime": {
     "end_time": "2024-07-21T09:50:56.323146Z",
     "start_time": "2024-07-21T09:50:56.275155Z"
    }
   },
   "outputs": [
    {
     "data": {
      "text/plain": [
       "array([[356.85 ,  18.   ],\n",
       "       [308.19 , 240.43 ],\n",
       "       [419.54 , 251.34 ],\n",
       "       [550.86 , 336.1  ],\n",
       "       [155.93 , 271.45 ],\n",
       "       [491.54 , 227.51 ],\n",
       "       [339.71 , 327.65 ],\n",
       "       [433.78 , 387.49 ],\n",
       "       [457.33 , 477.45 ],\n",
       "       [404.07 , 543.85 ],\n",
       "       [639.51 , 262.   ],\n",
       "       [520.95 , 452.89 ],\n",
       "       [470.06 , 268.31 ],\n",
       "       [442.92 , 186.49 ],\n",
       "       [ 98.378, 135.55 ],\n",
       "       [167.93 , 168.64 ],\n",
       "       [357.42 , 407.3  ],\n",
       "       [369.13 , 180.33 ],\n",
       "       [226.04 , 224.9  ],\n",
       "       [458.9  , 375.34 ],\n",
       "       [501.87 , 306.6  ],\n",
       "       [563.61 , 525.53 ],\n",
       "       [498.93 , 366.88 ],\n",
       "       [529.58 , 167.67 ],\n",
       "       [379.98 , 346.23 ],\n",
       "       [ 27.   , 113.83 ],\n",
       "       [401.9  , 465.58 ],\n",
       "       [593.53 , 117.21 ],\n",
       "       [553.78 , 254.66 ],\n",
       "       [612.55 , 194.54 ],\n",
       "       [501.47 , 549.43 ],\n",
       "       [289.06 , 390.57 ],\n",
       "       [358.86 ,  97.271],\n",
       "       [596.42 , 341.56 ],\n",
       "       [424.86 , 298.52 ],\n",
       "       [365.68 , 262.76 ]])"
      ]
     },
     "execution_count": 5,
     "metadata": {},
     "output_type": "execute_result"
    }
   ],
   "execution_count": 5
  },
  {
   "cell_type": "code",
   "source": "dataset[1]",
   "metadata": {
    "collapsed": false,
    "ExecuteTime": {
     "end_time": "2024-07-21T09:51:03.568862Z",
     "start_time": "2024-07-21T09:51:03.545701Z"
    }
   },
   "outputs": [
    {
     "data": {
      "text/plain": [
       "GraphDrawingData(G=DiGraph named 'grafo3546.36' with 36 nodes and 98 edges, perm_index=[2, 1260], edge_metaindex=[98], apsp_attr=[1260], perm_weight=[1260], aggr_metaindex=[1260], pos=[36, 2], name='grafo3546.36', n=[1], m=[1], edge_pair_metaindex=[2, 1176], num_nodes=36)"
      ]
     },
     "execution_count": 6,
     "metadata": {},
     "output_type": "execute_result"
    }
   ],
   "execution_count": 6
  },
  {
   "cell_type": "code",
   "execution_count": 3,
   "outputs": [
    {
     "name": "stderr",
     "output_type": "stream",
     "text": [
      "/opt/homebrew/anaconda3/lib/python3.10/site-packages/torch/jit/annotations.py:309: UserWarning: TorchScript will treat type annotations of Tensor dtype-specific subtypes as if they are normal Tensors. dtype constraints are not enforced in compilation either.\n",
      "  warnings.warn(\"TorchScript will treat type annotations of Tensor \"\n"
     ]
    }
   ],
   "source": [
    "from smartgd.common.syncing import LayoutSyncer\n",
    "from smartgd.common.datasets import RomeDataset\n",
    "from smartgd.common.data import GraphDrawingData"
   ],
   "metadata": {
    "collapsed": false
   }
  },
  {
   "cell_type": "code",
   "execution_count": null,
   "outputs": [],
   "source": "",
   "metadata": {
    "collapsed": false
   }
  }
 ],
 "metadata": {
  "kernelspec": {
   "name": "python3",
   "language": "python",
   "display_name": "Python 3 (ipykernel)"
  },
  "language_info": {
   "codemirror_mode": {
    "name": "ipython",
    "version": 2
   },
   "file_extension": ".py",
   "mimetype": "text/x-python",
   "name": "python",
   "nbconvert_exporter": "python",
   "pygments_lexer": "ipython2",
   "version": "2.7.6"
  }
 },
 "nbformat": 4,
 "nbformat_minor": 0
}
