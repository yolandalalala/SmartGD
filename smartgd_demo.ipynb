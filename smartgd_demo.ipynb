{
 "cells": [
  {
   "cell_type": "code",
   "id": "61bcb190-671c-4e75-9469-1bd4c801c29d",
   "metadata": {
    "ExecuteTime": {
     "end_time": "2024-09-08T12:49:10.701425Z",
     "start_time": "2024-09-08T12:49:10.684261Z"
    }
   },
   "source": [
    "%load_ext autoreload\n",
    "%autoreload 2"
   ],
   "outputs": [],
   "execution_count": 1
  },
  {
   "cell_type": "code",
   "id": "4b5d7c53-d37c-4c03-9713-cd8ffaa6d0dd",
   "metadata": {
    "ExecuteTime": {
     "end_time": "2024-09-08T12:49:14.193476Z",
     "start_time": "2024-09-08T12:49:10.705693Z"
    }
   },
   "source": [
    "import pandas as pd\n",
    "import numpy as np\n",
    "import torch\n",
    "import torch_geometric as pyg\n",
    "from tqdm.auto import *\n",
    "\n",
    "from smartgd.model import Generator, Discriminator\n",
    "from smartgd.data import GraphDrawingData\n",
    "from smartgd.datasets import  RomeDataset\n",
    "from smartgd.metrics import Stress\n",
    "from smartgd.transformations import Compose, Center, NormalizeRotation, RescaleByStress\n",
    "from smartgd.criteria import RGANCriterion"
   ],
   "outputs": [],
   "execution_count": 2
  },
  {
   "cell_type": "code",
   "id": "1ecb6a05-deff-4ebc-a4be-7e3bd2ffada5",
   "metadata": {
    "ExecuteTime": {
     "end_time": "2024-09-08T12:49:55.077839Z",
     "start_time": "2024-09-08T12:49:55.058624Z"
    }
   },
   "source": [
    "device = \"cpu\"\n",
    "# for backend, device_name in {\n",
    "#     torch.backends.mps: \"mps\",\n",
    "#     torch.cuda: \"cuda\",\n",
    "# }.items():\n",
    "#     if backend.is_available():\n",
    "#         device = device_name"
   ],
   "outputs": [],
   "execution_count": 13
  },
  {
   "metadata": {
    "ExecuteTime": {
     "end_time": "2024-09-08T12:49:56.670270Z",
     "start_time": "2024-09-08T12:49:56.650945Z"
    }
   },
   "cell_type": "code",
   "source": [
    "batch_size = 8\n",
    "lr = 0.001\n",
    "decay = 0.998"
   ],
   "id": "31fa6e3c690c3c42",
   "outputs": [],
   "execution_count": 14
  },
  {
   "cell_type": "code",
   "id": "f5438faa-6332-46be-92c3-f80337e46009",
   "metadata": {
    "ExecuteTime": {
     "end_time": "2024-09-08T12:50:08.837142Z",
     "start_time": "2024-09-08T12:49:56.989367Z"
    }
   },
   "source": [
    "GraphDrawingData.set_optional_fields([\"edge_pair_metaindex\", \"face\", \"rng\"])\n",
    "dataset = RomeDataset(\n",
    "    index=pd.read_csv(\"assets/rome_index.txt\", header=None)[0],\n",
    ")\n",
    "init_layouts = np.load(\"assets/layouts/pmds.npy\", allow_pickle=True)\n",
    "target_layouts = np.load(\"assets/layouts/pmds.npy\", allow_pickle=True)\n",
    "generator = Generator(\n",
    "    params=Generator.Params(\n",
    "        num_blocks=11,\n",
    "        block_depth=3,\n",
    "        block_width=8,\n",
    "        block_output_dim=8,\n",
    "        edge_net_depth=2,\n",
    "        edge_net_width=16,\n",
    "        edge_attr_dim=2,\n",
    "        node_attr_dim=2,\n",
    "    ),\n",
    ").to(device)\n",
    "discriminator = Discriminator(\n",
    "    params=Discriminator.Params(\n",
    "        num_layers=9,\n",
    "        hidden_width=16,\n",
    "        edge_net_shared_depth=8,\n",
    "        edge_net_embedded_depth=8,\n",
    "        edge_net_width=64,\n",
    "        edge_attr_dim=2\n",
    "    )\n",
    ")\n",
    "canonicalizer = Compose(\n",
    "    Center(),\n",
    "    NormalizeRotation(),\n",
    "    RescaleByStress(),\n",
    ")\n",
    "metrics = {\n",
    "    Stress(): 1,\n",
    "    # dgd.EdgeVar(): 0,\n",
    "    # dgd.Occlusion(): 0,\n",
    "    # dgd.IncidentAngle(): 0,\n",
    "    # dgd.TSNEScore(): 0,\n",
    "}\n",
    "criterion = RGANCriterion()"
   ],
   "outputs": [
    {
     "data": {
      "text/plain": [
       "Transform graphs:   0%|          | 0/11531 [00:00<?, ?it/s]"
      ],
      "application/vnd.jupyter.widget-view+json": {
       "version_major": 2,
       "version_minor": 0,
       "model_id": "db456904859741868c1baa62b388d730"
      }
     },
     "metadata": {},
     "output_type": "display_data"
    }
   ],
   "execution_count": 15
  },
  {
   "metadata": {
    "ExecuteTime": {
     "end_time": "2024-09-08T12:50:08.875316Z",
     "start_time": "2024-09-08T12:50:08.849680Z"
    }
   },
   "cell_type": "code",
   "source": [
    "gen_optim = torch.optim.AdamW(generator.parameters(), lr=lr)\n",
    "dis_optim = torch.optim.AdamW(discriminator.parameters(), lr=lr)\n",
    "gen_scheduler = torch.optim.lr_scheduler.ExponentialLR(gen_optim, gamma=decay)\n",
    "dis_scheduler = torch.optim.lr_scheduler.ExponentialLR(dis_optim, gamma=decay)"
   ],
   "id": "20544c19d8ad0e27",
   "outputs": [],
   "execution_count": 16
  },
  {
   "metadata": {
    "ExecuteTime": {
     "end_time": "2024-09-08T12:50:08.909876Z",
     "start_time": "2024-09-08T12:50:08.890054Z"
    }
   },
   "cell_type": "code",
   "source": [
    "def create_dataloaders():\n",
    "    datalist = list(dataset)\n",
    "    for i, data in enumerate(datalist):\n",
    "        data.pos = torch.tensor(init_layouts[i]).float()\n",
    "        data.target_pos = torch.tensor(target_layouts[i]).float()\n",
    "        data.fake_pos = torch.zeros_like(data.target_pos)\n",
    "        data.index = i\n",
    "    train_loader = pyg.loader.DataLoader(datalist[:10000], batch_size=batch_size, shuffle=True)\n",
    "    val_loader = pyg.loader.DataLoader(datalist[11000:], batch_size=batch_size, shuffle=False)\n",
    "    test_loader = pyg.loader.DataLoader(datalist[10000:11000], batch_size=batch_size, shuffle=False)\n",
    "    return train_loader, val_loader, test_loader"
   ],
   "id": "60bc240f4580a316",
   "outputs": [],
   "execution_count": 17
  },
  {
   "metadata": {
    "ExecuteTime": {
     "end_time": "2024-09-08T12:50:11.099070Z",
     "start_time": "2024-09-08T12:50:08.922360Z"
    }
   },
   "cell_type": "code",
   "source": "train_loader, val_loader, test_loader = create_dataloaders()",
   "id": "933f88a3b2e9bc8",
   "outputs": [],
   "execution_count": 18
  },
  {
   "metadata": {
    "ExecuteTime": {
     "end_time": "2024-09-08T12:50:11.130500Z",
     "start_time": "2024-09-08T12:50:11.111419Z"
    }
   },
   "cell_type": "code",
   "source": [
    "def generate_init_pos(batch):\n",
    "    # pos = torch.rand_like(batch.pos)\n",
    "    pos = canonicalizer(\n",
    "        pos=batch.pos,\n",
    "        apsp=batch.apsp_attr,\n",
    "        edge_index=batch.perm_index,\n",
    "        batch_index=batch.batch,\n",
    "    )\n",
    "    return pos\n",
    "\n",
    "def get_edge_features(all_pair_shortest_path):\n",
    "    return torch.cat([\n",
    "        all_pair_shortest_path[:, None],\n",
    "        1 / all_pair_shortest_path[:, None].square()\n",
    "    ], dim=-1)"
   ],
   "id": "ee72999876d0714b",
   "outputs": [],
   "execution_count": 19
  },
  {
   "metadata": {
    "ExecuteTime": {
     "end_time": "2024-08-06T06:51:42.178641Z",
     "start_time": "2024-08-06T06:51:41.788517Z"
    }
   },
   "cell_type": "code",
   "source": "# model.load_state_dict(torch.load(\"model_359.pt\", map_location=device))",
   "id": "d659617700b8e1e6",
   "outputs": [
    {
     "data": {
      "text/plain": [
       "<All keys matched successfully>"
      ]
     },
     "execution_count": 12,
     "metadata": {},
     "output_type": "execute_result"
    }
   ],
   "execution_count": 12
  },
  {
   "metadata": {
    "ExecuteTime": {
     "end_time": "2024-09-09T02:08:53.612100Z",
     "start_time": "2024-09-09T02:08:53.456183Z"
    }
   },
   "cell_type": "code",
   "source": [
    "batch = next(iter(train_loader))\n",
    "batch"
   ],
   "id": "6a02ab6b3d3127db",
   "outputs": [
    {
     "data": {
      "text/plain": [
       "GraphDrawingDataBatch(G=[32], perm_index=[2, 102334], edge_metaindex=[4476], apsp_attr=[102334], perm_weight=[102334], aggr_metaindex=[102334], pos=[1672, 2], name=[32], n=[32], m=[32], edge_pair_metaindex=[2, 94147], num_nodes=1672, target_pos=[1672, 2], index=[32], batch=[1672], ptr=[33])"
      ]
     },
     "execution_count": 29,
     "metadata": {},
     "output_type": "execute_result"
    }
   ],
   "execution_count": 29
  },
  {
   "metadata": {
    "ExecuteTime": {
     "end_time": "2024-09-09T02:09:47.679001Z",
     "start_time": "2024-09-09T02:09:38.482739Z"
    }
   },
   "cell_type": "code",
   "source": [
    "output = forward(batch, train=True)\n",
    "output"
   ],
   "id": "b3feceef7f1177c8",
   "outputs": [
    {
     "data": {
      "text/plain": [
       "{'fake_pos': tensor([[-5.1948,  2.0996],\n",
       "         [-1.4264,  0.2930],\n",
       "         [-1.9859,  1.4574],\n",
       "         ...,\n",
       "         [-4.5070, -0.3866],\n",
       "         [ 1.2863,  1.6330],\n",
       "         [ 2.6649, -3.0330]], grad_fn=<DivBackward0>),\n",
       " 'fake_score': tensor([ 196.0659, 1371.5764,  885.7131,  140.4702,  159.6006, 1187.2657,\n",
       "         1410.8604, 1199.0756,  181.6657,  487.0019,  303.8329,  187.4160,\n",
       "           60.4895,  607.2047,  171.2368,   45.6460,  623.2626,  645.0079,\n",
       "          812.8198,   33.4490,  416.7246,  501.5317,  230.6680,  651.7480,\n",
       "          200.6717,  902.0440,  365.8091, 1375.2031,  349.8654,  577.6883,\n",
       "          264.9240,  177.8495], grad_fn=<AddBackward0>),\n",
       " 'fake_logits': tensor([ 5.8247e-01,  2.3285e+01,  5.4998e+00,  1.7368e+00,  2.1116e+00,\n",
       "          1.4585e+01,  8.0327e+00,  1.2721e+01,  2.1300e+00,  4.3922e+00,\n",
       "          1.6836e+00,  2.1429e+00, -2.7185e-01,  3.9511e+00,  7.5187e-01,\n",
       "          2.1842e-02,  3.4293e+00,  4.7576e+00,  5.8462e+00, -1.8753e-01,\n",
       "         -2.4070e+00,  3.1575e+00,  4.2413e+00,  2.9288e+00,  3.0200e+00,\n",
       "          4.4673e+00, -7.1471e-01,  1.1653e+01, -1.1998e+00,  2.9902e+00,\n",
       "          3.2166e+00,  1.8681e+00], grad_fn=<ViewBackward0>),\n",
       " 'real_pos': tensor([[-4.1340, -2.6682],\n",
       "         [-1.6089, -0.5637],\n",
       "         [-1.0584, -2.4027],\n",
       "         ...,\n",
       "         [-4.2357, -1.1163],\n",
       "         [ 3.2575, -0.6414],\n",
       "         [-0.6284,  4.1942]]),\n",
       " 'real_score': tensor([ 138.7137, 1059.7462,  729.8640,   70.2970,  123.1646, 1017.4904,\n",
       "         1014.1147,  875.6310,   97.3182,  425.0945,  210.6402,  113.1424,\n",
       "           10.3397,  423.8698,   99.3143,   17.9702,  403.6310,  326.6032,\n",
       "          496.8280,   17.6725,  129.1860,  405.4890,   87.7845,  406.0076,\n",
       "           92.9597,  572.2365,  176.5873, 1015.4691,  199.4134,  439.2444,\n",
       "          160.6790,   94.7218]),\n",
       " 'real_logits': tensor([ 2.2852, 32.3363,  8.5321,  3.2562,  2.9719, 22.1248,  8.6849, 16.3213,\n",
       "          3.5534,  5.4222,  2.6970,  4.1582,  1.1442,  5.4240,  2.8202,  1.0501,\n",
       "          6.3019,  6.4409,  6.3899,  0.4599,  2.2229,  4.7340,  3.7635,  5.7033,\n",
       "          4.5461,  6.3957,  2.6696, 18.9704,  1.4724,  5.2179,  5.5236,  3.9103],\n",
       "        grad_fn=<ViewBackward0>)}"
      ]
     },
     "execution_count": 31,
     "metadata": {},
     "output_type": "execute_result"
    }
   ],
   "execution_count": 31
  },
  {
   "metadata": {
    "ExecuteTime": {
     "end_time": "2024-09-09T02:11:00.037573Z",
     "start_time": "2024-09-09T02:10:59.958517Z"
    }
   },
   "cell_type": "code",
   "source": [
    "batch.target_pos = output['fake_pos']\n",
    "batch.to_data_list()"
   ],
   "id": "629db2a69532038b",
   "outputs": [
    {
     "data": {
      "text/plain": [
       "[GraphDrawingData(G=DiGraph named 'grafo9969.33' with 33 nodes and 78 edges, perm_index=[2, 1056], edge_metaindex=[78], apsp_attr=[1056], perm_weight=[1056], aggr_metaindex=[1056], pos=[33, 2], name='grafo9969.33', n=[1], m=[1], edge_pair_metaindex=[2, 741], target_pos=[33, 2], index=[1], num_nodes=33),\n",
       " GraphDrawingData(G=DiGraph named 'grafo8759.94' with 94 nodes and 248 edges, perm_index=[2, 8742], edge_metaindex=[248], apsp_attr=[8742], perm_weight=[8742], aggr_metaindex=[8742], pos=[94, 2], name='grafo8759.94', n=[1], m=[1], edge_pair_metaindex=[2, 7626], target_pos=[94, 2], index=[1], num_nodes=94),\n",
       " GraphDrawingData(G=DiGraph named 'grafo6187.81' with 81 nodes and 224 edges, perm_index=[2, 6480], edge_metaindex=[224], apsp_attr=[6480], perm_weight=[6480], aggr_metaindex=[6480], pos=[81, 2], name='grafo6187.81', n=[1], m=[1], edge_pair_metaindex=[2, 6216], target_pos=[81, 2], index=[1], num_nodes=81),\n",
       " GraphDrawingData(G=DiGraph named 'grafo5508.33' with 33 nodes and 82 edges, perm_index=[2, 1056], edge_metaindex=[82], apsp_attr=[1056], perm_weight=[1056], aggr_metaindex=[1056], pos=[33, 2], name='grafo5508.33', n=[1], m=[1], edge_pair_metaindex=[2, 820], target_pos=[33, 2], index=[1], num_nodes=33),\n",
       " GraphDrawingData(G=DiGraph named 'grafo11414.36' with 36 nodes and 94 edges, perm_index=[2, 1260], edge_metaindex=[94], apsp_attr=[1260], perm_weight=[1260], aggr_metaindex=[1260], pos=[36, 2], name='grafo11414.36', n=[1], m=[1], edge_pair_metaindex=[2, 1081], target_pos=[36, 2], index=[1], num_nodes=36),\n",
       " GraphDrawingData(G=DiGraph named 'grafo8904.92' with 92 nodes and 248 edges, perm_index=[2, 8372], edge_metaindex=[248], apsp_attr=[8372], perm_weight=[8372], aggr_metaindex=[8372], pos=[92, 2], name='grafo8904.92', n=[1], m=[1], edge_pair_metaindex=[2, 7626], target_pos=[92, 2], index=[1], num_nodes=92),\n",
       " GraphDrawingData(G=DiGraph named 'grafo11275.93' with 93 nodes and 270 edges, perm_index=[2, 8556], edge_metaindex=[270], apsp_attr=[8556], perm_weight=[8556], aggr_metaindex=[8556], pos=[93, 2], name='grafo11275.93', n=[1], m=[1], edge_pair_metaindex=[2, 9045], target_pos=[93, 2], index=[1], num_nodes=93),\n",
       " GraphDrawingData(G=DiGraph named 'grafo8602.87' with 87 nodes and 236 edges, perm_index=[2, 7482], edge_metaindex=[236], apsp_attr=[7482], perm_weight=[7482], aggr_metaindex=[7482], pos=[87, 2], name='grafo8602.87', n=[1], m=[1], edge_pair_metaindex=[2, 6903], target_pos=[87, 2], index=[1], num_nodes=87),\n",
       " GraphDrawingData(G=DiGraph named 'grafo11031.36' with 36 nodes and 82 edges, perm_index=[2, 1260], edge_metaindex=[82], apsp_attr=[1260], perm_weight=[1260], aggr_metaindex=[1260], pos=[36, 2], name='grafo11031.36', n=[1], m=[1], edge_pair_metaindex=[2, 820], target_pos=[36, 2], index=[1], num_nodes=36),\n",
       " GraphDrawingData(G=DiGraph named 'grafo4411.64' with 64 nodes and 158 edges, perm_index=[2, 4032], edge_metaindex=[158], apsp_attr=[4032], perm_weight=[4032], aggr_metaindex=[4032], pos=[64, 2], name='grafo4411.64', n=[1], m=[1], edge_pair_metaindex=[2, 3081], target_pos=[64, 2], index=[1], num_nodes=64),\n",
       " GraphDrawingData(G=DiGraph named 'grafo7616.43' with 43 nodes and 128 edges, perm_index=[2, 1806], edge_metaindex=[128], apsp_attr=[1806], perm_weight=[1806], aggr_metaindex=[1806], pos=[43, 2], name='grafo7616.43', n=[1], m=[1], edge_pair_metaindex=[2, 2016], target_pos=[43, 2], index=[1], num_nodes=43),\n",
       " GraphDrawingData(G=DiGraph named 'grafo2273.40' with 40 nodes and 120 edges, perm_index=[2, 1560], edge_metaindex=[120], apsp_attr=[1560], perm_weight=[1560], aggr_metaindex=[1560], pos=[40, 2], name='grafo2273.40', n=[1], m=[1], edge_pair_metaindex=[2, 1770], target_pos=[40, 2], index=[1], num_nodes=40),\n",
       " GraphDrawingData(G=DiGraph named 'grafo2679.17' with 17 nodes and 38 edges, perm_index=[2, 272], edge_metaindex=[38], apsp_attr=[272], perm_weight=[272], aggr_metaindex=[272], pos=[17, 2], name='grafo2679.17', n=[1], m=[1], edge_pair_metaindex=[2, 171], target_pos=[17, 2], index=[1], num_nodes=17),\n",
       " GraphDrawingData(G=DiGraph named 'grafo8525.60' with 60 nodes and 174 edges, perm_index=[2, 3540], edge_metaindex=[174], apsp_attr=[3540], perm_weight=[3540], aggr_metaindex=[3540], pos=[60, 2], name='grafo8525.60', n=[1], m=[1], edge_pair_metaindex=[2, 3741], target_pos=[60, 2], index=[1], num_nodes=60),\n",
       " GraphDrawingData(G=DiGraph named 'grafo5340.34' with 34 nodes and 94 edges, perm_index=[2, 1122], edge_metaindex=[94], apsp_attr=[1122], perm_weight=[1122], aggr_metaindex=[1122], pos=[34, 2], name='grafo5340.34', n=[1], m=[1], edge_pair_metaindex=[2, 1081], target_pos=[34, 2], index=[1], num_nodes=34),\n",
       " GraphDrawingData(G=DiGraph named 'grafo1945.16' with 16 nodes and 34 edges, perm_index=[2, 240], edge_metaindex=[34], apsp_attr=[240], perm_weight=[240], aggr_metaindex=[240], pos=[16, 2], name='grafo1945.16', n=[1], m=[1], edge_pair_metaindex=[2, 136], target_pos=[16, 2], index=[1], num_nodes=16),\n",
       " GraphDrawingData(G=DiGraph named 'grafo5049.63' with 63 nodes and 176 edges, perm_index=[2, 3906], edge_metaindex=[176], apsp_attr=[3906], perm_weight=[3906], aggr_metaindex=[3906], pos=[63, 2], name='grafo5049.63', n=[1], m=[1], edge_pair_metaindex=[2, 3828], target_pos=[63, 2], index=[1], num_nodes=63),\n",
       " GraphDrawingData(G=DiGraph named 'grafo4413.64' with 64 nodes and 174 edges, perm_index=[2, 4032], edge_metaindex=[174], apsp_attr=[4032], perm_weight=[4032], aggr_metaindex=[4032], pos=[64, 2], name='grafo4413.64', n=[1], m=[1], edge_pair_metaindex=[2, 3741], target_pos=[64, 2], index=[1], num_nodes=64),\n",
       " GraphDrawingData(G=DiGraph named 'grafo7838.67' with 67 nodes and 184 edges, perm_index=[2, 4422], edge_metaindex=[184], apsp_attr=[4422], perm_weight=[4422], aggr_metaindex=[4422], pos=[67, 2], name='grafo7838.67', n=[1], m=[1], edge_pair_metaindex=[2, 4186], target_pos=[67, 2], index=[1], num_nodes=67),\n",
       " GraphDrawingData(G=DiGraph named 'grafo593.12' with 12 nodes and 30 edges, perm_index=[2, 132], edge_metaindex=[30], apsp_attr=[132], perm_weight=[132], aggr_metaindex=[132], pos=[12, 2], name='grafo593.12', n=[1], m=[1], edge_pair_metaindex=[2, 105], target_pos=[12, 2], index=[1], num_nodes=12),\n",
       " GraphDrawingData(G=DiGraph named 'grafo2093.36' with 36 nodes and 106 edges, perm_index=[2, 1260], edge_metaindex=[106], apsp_attr=[1260], perm_weight=[1260], aggr_metaindex=[1260], pos=[36, 2], name='grafo2093.36', n=[1], m=[1], edge_pair_metaindex=[2, 1378], target_pos=[36, 2], index=[1], num_nodes=36),\n",
       " GraphDrawingData(G=DiGraph named 'grafo6623.59' with 59 nodes and 146 edges, perm_index=[2, 3422], edge_metaindex=[146], apsp_attr=[3422], perm_weight=[3422], aggr_metaindex=[3422], pos=[59, 2], name='grafo6623.59', n=[1], m=[1], edge_pair_metaindex=[2, 2628], target_pos=[59, 2], index=[1], num_nodes=59),\n",
       " GraphDrawingData(G=DiGraph named 'grafo4099.39' with 39 nodes and 78 edges, perm_index=[2, 1482], edge_metaindex=[78], apsp_attr=[1482], perm_weight=[1482], aggr_metaindex=[1482], pos=[39, 2], name='grafo4099.39', n=[1], m=[1], edge_pair_metaindex=[2, 741], target_pos=[39, 2], index=[1], num_nodes=39),\n",
       " GraphDrawingData(G=DiGraph named 'grafo6690.58' with 58 nodes and 140 edges, perm_index=[2, 3306], edge_metaindex=[140], apsp_attr=[3306], perm_weight=[3306], aggr_metaindex=[3306], pos=[58, 2], name='grafo6690.58', n=[1], m=[1], edge_pair_metaindex=[2, 2415], target_pos=[58, 2], index=[1], num_nodes=58),\n",
       " GraphDrawingData(G=DiGraph named 'grafo10141.38' with 38 nodes and 90 edges, perm_index=[2, 1406], edge_metaindex=[90], apsp_attr=[1406], perm_weight=[1406], aggr_metaindex=[1406], pos=[38, 2], name='grafo10141.38', n=[1], m=[1], edge_pair_metaindex=[2, 990], target_pos=[38, 2], index=[1], num_nodes=38),\n",
       " GraphDrawingData(G=DiGraph named 'grafo8138.72' with 72 nodes and 202 edges, perm_index=[2, 5112], edge_metaindex=[202], apsp_attr=[5112], perm_weight=[5112], aggr_metaindex=[5112], pos=[72, 2], name='grafo8138.72', n=[1], m=[1], edge_pair_metaindex=[2, 5050], target_pos=[72, 2], index=[1], num_nodes=72),\n",
       " GraphDrawingData(G=DiGraph named 'grafo7252.40' with 40 nodes and 128 edges, perm_index=[2, 1560], edge_metaindex=[128], apsp_attr=[1560], perm_weight=[1560], aggr_metaindex=[1560], pos=[40, 2], name='grafo7252.40', n=[1], m=[1], edge_pair_metaindex=[2, 2016], target_pos=[40, 2], index=[1], num_nodes=40),\n",
       " GraphDrawingData(G=DiGraph named 'grafo9331.85' with 85 nodes and 222 edges, perm_index=[2, 7140], edge_metaindex=[222], apsp_attr=[7140], perm_weight=[7140], aggr_metaindex=[7140], pos=[85, 2], name='grafo9331.85', n=[1], m=[1], edge_pair_metaindex=[2, 6105], target_pos=[85, 2], index=[1], num_nodes=85),\n",
       " GraphDrawingData(G=DiGraph named 'grafo11627.37' with 37 nodes and 106 edges, perm_index=[2, 1332], edge_metaindex=[106], apsp_attr=[1332], perm_weight=[1332], aggr_metaindex=[1332], pos=[37, 2], name='grafo11627.37', n=[1], m=[1], edge_pair_metaindex=[2, 1378], target_pos=[37, 2], index=[1], num_nodes=37),\n",
       " GraphDrawingData(G=DiGraph named 'grafo8874.60' with 60 nodes and 178 edges, perm_index=[2, 3540], edge_metaindex=[178], apsp_attr=[3540], perm_weight=[3540], aggr_metaindex=[3540], pos=[60, 2], name='grafo8874.60', n=[1], m=[1], edge_pair_metaindex=[2, 3916], target_pos=[60, 2], index=[1], num_nodes=60),\n",
       " GraphDrawingData(G=DiGraph named 'grafo4059.48' with 48 nodes and 128 edges, perm_index=[2, 2256], edge_metaindex=[128], apsp_attr=[2256], perm_weight=[2256], aggr_metaindex=[2256], pos=[48, 2], name='grafo4059.48', n=[1], m=[1], edge_pair_metaindex=[2, 2016], target_pos=[48, 2], index=[1], num_nodes=48),\n",
       " GraphDrawingData(G=DiGraph named 'grafo9855.35' with 35 nodes and 80 edges, perm_index=[2, 1190], edge_metaindex=[80], apsp_attr=[1190], perm_weight=[1190], aggr_metaindex=[1190], pos=[35, 2], name='grafo9855.35', n=[1], m=[1], edge_pair_metaindex=[2, 780], target_pos=[35, 2], index=[1], num_nodes=35)]"
      ]
     },
     "execution_count": 35,
     "metadata": {},
     "output_type": "execute_result"
    }
   ],
   "execution_count": 35
  },
  {
   "metadata": {
    "ExecuteTime": {
     "end_time": "2024-09-08T12:50:11.163775Z",
     "start_time": "2024-09-08T12:50:11.144169Z"
    }
   },
   "cell_type": "code",
   "source": [
    "def evaluate(pos, batch):\n",
    "    score = 0\n",
    "    for c, w in metrics.items():\n",
    "        score += w * c(pos, batch.perm_index, batch.apsp_attr, batch.batch)\n",
    "    return score"
   ],
   "id": "690fe71675962b0e",
   "outputs": [],
   "execution_count": 20
  },
  {
   "metadata": {
    "ExecuteTime": {
     "end_time": "2024-09-08T12:55:44.883715Z",
     "start_time": "2024-09-08T12:55:44.845603Z"
    }
   },
   "cell_type": "code",
   "source": [
    "def forward(batch, train=False):\n",
    "    edge_attr = get_edge_features(batch.apsp_attr)\n",
    "    pred = generator(\n",
    "        init_pos=generate_init_pos(batch),\n",
    "        edge_index=batch.perm_index,\n",
    "        edge_attr=edge_attr,\n",
    "        batch_index=batch.batch,\n",
    "    )\n",
    "    fake_pos = canonicalizer(pred, batch.apsp_attr, batch.perm_index, batch.batch)\n",
    "    fake_score = evaluate(fake_pos, batch)\n",
    "    output = {\n",
    "        'fake_pos': fake_pos,\n",
    "        'fake_score': fake_score,\n",
    "    }\n",
    "    if train:\n",
    "        fake_logits = discriminator(\n",
    "            pos=fake_pos,\n",
    "            edge_index=batch.perm_index,\n",
    "            edge_attr=edge_attr,\n",
    "            batch_index=batch.batch,\n",
    "        )\n",
    "        real_pos = canonicalizer(batch.target_pos, batch.apsp_attr, batch.perm_index, batch.batch)\n",
    "        real_score = evaluate(real_pos, batch)\n",
    "        real_logits = discriminator(\n",
    "            pos=real_pos,\n",
    "            edge_index=batch.perm_index,\n",
    "            edge_attr=edge_attr,\n",
    "            batch_index=batch.batch,\n",
    "        )\n",
    "        output |= {\n",
    "            'fake_logits': fake_logits,\n",
    "            'real_pos': real_pos,\n",
    "            'real_score': real_score,\n",
    "            'real_logits': real_logits,\n",
    "        }\n",
    "    return output\n",
    "    "
   ],
   "id": "6825d56594c9a9d",
   "outputs": [],
   "execution_count": 25
  },
  {
   "cell_type": "code",
   "id": "840e2975-0553-4e47-952d-a3ae1a57928a",
   "metadata": {
    "scrolled": true,
    "tags": [],
    "ExecuteTime": {
     "end_time": "2024-09-08T14:47:07.620486Z",
     "start_time": "2024-09-08T13:01:26.576624Z"
    }
   },
   "source": [
    "for epoch in range(1000):\n",
    "    train_loader, val_loader, test_loader = create_dataloaders()\n",
    "\n",
    "    generator.train()\n",
    "    discriminator.train()\n",
    "    gen_losses = []\n",
    "    dis_losses = []\n",
    "    scores = []\n",
    "\n",
    "    for batch in tqdm(train_loader):\n",
    "        batch = batch.to(device)\n",
    "\n",
    "        generator.zero_grad()\n",
    "        discriminator.zero_grad()\n",
    "        output = forward(batch, train=True)\n",
    "        dis_loss = criterion(encourage=output['real_logits'], discourage=output['fake_logits'])\n",
    "        dis_loss.backward()\n",
    "        dis_optim.step()\n",
    "\n",
    "        generator.zero_grad()\n",
    "        discriminator.zero_grad()\n",
    "        output = forward(batch, train=True)\n",
    "        gen_loss = criterion(encourage=output['fake_logits'], discourage=output['real_logits'])\n",
    "        gen_loss.backward()\n",
    "        gen_optim.step()\n",
    "\n",
    "        gen_losses.append(gen_loss.item())\n",
    "        dis_losses.append(dis_loss.item())\n",
    "        scores += output['fake_score'].tolist()\n",
    "\n",
    "        batch.fake_pos = output['fake_pos']\n",
    "        data_list = batch.to_data_list()\n",
    "        for real_score, fake_score, data in zip(output['real_score'], output['real_score'], data_list):\n",
    "            if fake_score > real_score:\n",
    "                target_layouts[data['index']] = data['fake_pos'].numpy()\n",
    "        # print(np.mean(output['fake_score'].tolist()))\n",
    "\n",
    "    gen_scheduler.step()\n",
    "    dis_scheduler.step()\n",
    "\n",
    "    print(f'[Epoch {epoch}] Train Loss:\\tgen={np.mean(gen_losses)}\\tdis={np.mean(dis_losses)}')\n",
    "    print(f'[Epoch {epoch}] Train Score:\\t{np.mean(scores)}')\n",
    "\n",
    "    with torch.no_grad():\n",
    "        generator.eval()\n",
    "        discriminator.eval()\n",
    "        scores = []\n",
    "        for batch in tqdm(test_loader, disable=True):\n",
    "            batch = batch.to(device)\n",
    "            output = forward(batch)\n",
    "            scores += output['fake_score'].tolist()\n",
    "\n",
    "        print(f'[Epoch {epoch}] Test Score:\\t{np.mean(scores)}')"
   ],
   "outputs": [
    {
     "data": {
      "text/plain": [
       "  0%|          | 0/313 [00:00<?, ?it/s]"
      ],
      "application/vnd.jupyter.widget-view+json": {
       "version_major": 2,
       "version_minor": 0,
       "model_id": "51ba5f27741c45bd81113f0a1474a79f"
      }
     },
     "metadata": {},
     "output_type": "display_data"
    },
    {
     "name": "stdout",
     "output_type": "stream",
     "text": [
      "1502.2365336418152\n",
      "1013.4369616508484\n",
      "1028.484326839447\n",
      "1112.1174216270447\n",
      "1195.7657984495163\n",
      "1392.5567245483398\n",
      "1307.5690392255783\n",
      "2090.2365527153015\n",
      "1836.993859887123\n",
      "1615.2328161001205\n",
      "1273.5825086832047\n",
      "1169.8704580068588\n",
      "1467.5561834573746\n",
      "1452.4366165399551\n",
      "1412.351623058319\n",
      "1281.3525722026825\n",
      "1111.1325639486313\n",
      "1451.2303624153137\n",
      "1111.1522946357727\n",
      "1137.2717475891113\n",
      "1101.7943007946014\n",
      "1190.426450252533\n",
      "1093.3279912471771\n",
      "1160.4399166107178\n",
      "916.7488149404526\n",
      "1414.460598230362\n",
      "1199.7763127088547\n",
      "1229.6246408224106\n",
      "1352.5197132229805\n",
      "993.1665745973587\n",
      "654.2742004394531\n",
      "1121.6510025262833\n",
      "1222.7069644927979\n",
      "1228.1739521026611\n",
      "1342.7336966991425\n",
      "976.5077821016312\n",
      "989.6945796012878\n",
      "1083.231187582016\n",
      "1292.5433490276337\n",
      "1391.1503765583038\n",
      "1375.043908238411\n",
      "1333.7593258619308\n",
      "893.7991659641266\n",
      "1313.7932803630829\n",
      "927.9698474407196\n",
      "1035.6549826860428\n",
      "940.9055020809174\n",
      "747.1860494613647\n",
      "945.3521990776062\n",
      "1125.4266443252563\n",
      "861.2695200443268\n",
      "836.0386967658997\n",
      "865.8436059951782\n",
      "971.3515866398811\n",
      "969.989464879036\n",
      "868.673930644989\n",
      "1024.2000123262405\n",
      "958.9284111261368\n",
      "928.4210094213486\n",
      "708.6184884309769\n",
      "1058.718688428402\n",
      "1006.9189375638962\n",
      "942.5968803167343\n",
      "626.6667175292969\n",
      "931.6351971626282\n",
      "758.4833352565765\n",
      "846.8085553646088\n",
      "962.2748733758926\n",
      "776.1561232805252\n",
      "1007.0380352735519\n",
      "786.6860231757164\n",
      "986.3985528945923\n",
      "910.4612213373184\n",
      "696.6329190731049\n",
      "751.4462026357651\n",
      "1049.6572134494781\n",
      "829.5229477882385\n",
      "898.6423542499542\n",
      "716.6753624677658\n",
      "763.6181354522705\n",
      "1057.0571639537811\n",
      "675.0134257078171\n",
      "601.9005684256554\n",
      "849.0765684843063\n",
      "851.6363508701324\n",
      "867.7785195112228\n",
      "832.5087710618973\n",
      "698.4005808830261\n",
      "735.9015376567841\n",
      "608.7595002651215\n",
      "696.6046614646912\n",
      "764.773869395256\n",
      "580.3950721025467\n",
      "873.4599725008011\n",
      "504.1009588241577\n",
      "889.7797108888626\n",
      "810.132374048233\n",
      "847.2491805553436\n",
      "881.8602883815765\n",
      "597.4771832227707\n",
      "743.6738992929459\n",
      "627.1735228300095\n",
      "705.5865797996521\n",
      "941.4075284004211\n",
      "641.2413506507874\n",
      "709.0987539291382\n",
      "962.3881895542145\n",
      "655.0821720957756\n",
      "829.2083630561829\n",
      "598.1358081102371\n",
      "730.692818403244\n",
      "683.1458761692047\n",
      "666.4064621925354\n",
      "667.4927092194557\n",
      "645.6373797655106\n",
      "598.097422003746\n",
      "468.9054812192917\n",
      "606.2130318880081\n",
      "642.8646564483643\n",
      "592.4111479520798\n",
      "858.7239141464233\n",
      "601.6511950492859\n",
      "734.1518739461899\n",
      "608.6793631315231\n",
      "700.8756499290466\n",
      "745.5494300127029\n",
      "712.9214325547218\n",
      "706.5496225357056\n",
      "724.3801448345184\n",
      "474.38447856903076\n",
      "603.7070581912994\n",
      "633.1680838465691\n",
      "738.2258188724518\n",
      "578.1373906135559\n",
      "606.5949072241783\n",
      "607.9169833660126\n",
      "549.563369512558\n",
      "523.6566290855408\n",
      "702.8352797031403\n",
      "535.3426467180252\n",
      "730.5115323066711\n",
      "482.1910092830658\n",
      "723.5195550918579\n",
      "892.7675017118454\n",
      "629.3156312704086\n",
      "566.3604046106339\n",
      "623.9738491773605\n",
      "730.0111353397369\n",
      "675.0701539516449\n",
      "665.6681147813797\n",
      "556.5721390247345\n",
      "741.1014788150787\n",
      "787.227965593338\n",
      "573.9437499046326\n",
      "456.20093607902527\n",
      "572.607778429985\n",
      "635.6424090862274\n",
      "643.4486775398254\n",
      "544.0363538861275\n",
      "532.49740254879\n",
      "530.5160554051399\n",
      "632.0309702754021\n",
      "519.0089755058289\n",
      "541.6140483617783\n",
      "596.2429268360138\n",
      "609.0712977647781\n",
      "581.1278336048126\n",
      "725.3314549922943\n",
      "542.6236029863358\n",
      "571.6478206515312\n",
      "671.6960960626602\n",
      "489.0489110350609\n",
      "571.9225989580154\n",
      "519.8204922676086\n",
      "469.9477229118347\n",
      "563.9146136045456\n",
      "525.6423215866089\n",
      "498.79347652196884\n",
      "388.8352059721947\n",
      "451.6292860507965\n",
      "451.28640937805176\n",
      "568.2137515544891\n",
      "463.6833835840225\n",
      "476.3937349319458\n",
      "572.3055135011673\n",
      "610.2621337175369\n",
      "532.9536032676697\n",
      "597.2288882732391\n",
      "493.31923484802246\n",
      "711.3167622089386\n",
      "677.0332907438278\n",
      "491.9360382556915\n",
      "377.52322220802307\n",
      "531.9485110044479\n",
      "494.68113523721695\n",
      "611.6457448005676\n",
      "617.4327764511108\n",
      "541.1199951171875\n",
      "425.68993347883224\n",
      "440.12153923511505\n",
      "508.9118843078613\n",
      "733.9678764343262\n",
      "490.14012229442596\n",
      "399.7472257614136\n",
      "419.55343413352966\n",
      "623.4142591953278\n",
      "621.8371524810791\n",
      "500.4063147306442\n",
      "637.5987269878387\n",
      "462.1359443664551\n",
      "370.5214307308197\n",
      "514.2831971645355\n",
      "429.8974698781967\n",
      "554.9258003234863\n",
      "446.56422901153564\n",
      "600.1686990261078\n",
      "415.7956021428108\n",
      "397.62520948052406\n",
      "543.8389022350311\n",
      "410.3837006688118\n",
      "448.65407729148865\n",
      "514.2586024999619\n",
      "374.6268893480301\n",
      "493.3974106311798\n",
      "482.99103462696075\n",
      "468.3877814412117\n",
      "545.8232101202011\n",
      "455.55153876543045\n",
      "523.4934722781181\n",
      "547.1452605724335\n",
      "369.7994874715805\n",
      "348.3268372416496\n",
      "588.8594404459\n",
      "481.05092573165894\n",
      "564.1296247243881\n",
      "484.2487493753433\n",
      "341.16501545906067\n",
      "492.4494171142578\n",
      "542.5590996742249\n",
      "398.26039814949036\n",
      "497.5580978989601\n",
      "483.82891488075256\n",
      "455.235573887825\n",
      "487.1613972187042\n",
      "488.19395184516907\n",
      "395.5745098590851\n",
      "628.8126457929611\n",
      "624.308582007885\n",
      "503.96672308444977\n",
      "493.3730707168579\n",
      "552.7968887090683\n",
      "537.411403298378\n",
      "539.8997532725334\n",
      "383.71905755996704\n",
      "523.3127208948135\n",
      "372.4960446357727\n",
      "525.8082845211029\n",
      "393.2108078598976\n",
      "518.4825438261032\n",
      "514.5383235216141\n",
      "467.3632009625435\n",
      "308.1479620337486\n",
      "410.22117257118225\n",
      "492.3781223297119\n",
      "555.7139164209366\n",
      "507.73496973514557\n",
      "531.9366626739502\n",
      "417.8226031064987\n",
      "446.073794901371\n",
      "591.4553064703941\n",
      "660.1559538841248\n",
      "577.0500501394272\n",
      "350.6665037870407\n",
      "452.0539698600769\n",
      "432.6478509902954\n",
      "444.4287875890732\n",
      "586.5886673927307\n",
      "559.3444226980209\n",
      "399.4689064025879\n",
      "560.1503484249115\n",
      "560.8447945713997\n",
      "527.0399624109268\n",
      "370.69028770923615\n",
      "522.7529004812241\n",
      "496.0656381845474\n",
      "368.1842384338379\n",
      "476.29850006103516\n",
      "505.6977289915085\n",
      "448.6790682077408\n",
      "488.49600660800934\n",
      "623.6564623117447\n",
      "473.98164904117584\n",
      "385.6256515979767\n",
      "321.723002076149\n",
      "368.7388801574707\n",
      "621.0695705413818\n",
      "541.614139854908\n",
      "491.73716473579407\n",
      "555.6198037266731\n",
      "617.5809237957001\n",
      "404.4913139343262\n",
      "489.444001019001\n",
      "592.6891242265701\n",
      "628.5269849300385\n",
      "602.5242273807526\n",
      "661.5695750713348\n",
      "559.7523714900017\n",
      "546.7847716808319\n",
      "544.9683140516281\n",
      "538.8318548202515\n",
      "735.6503715515137\n",
      "633.597615480423\n",
      "737.4158866405487\n"
     ]
    },
    {
     "ename": "NameError",
     "evalue": "name 'dis_scheduler' is not defined",
     "output_type": "error",
     "traceback": [
      "\u001B[0;31m---------------------------------------------------------------------------\u001B[0m",
      "\u001B[0;31mNameError\u001B[0m                                 Traceback (most recent call last)",
      "Cell \u001B[0;32mIn[28], line 30\u001B[0m\n\u001B[1;32m     27\u001B[0m     \u001B[38;5;28mprint\u001B[39m(np\u001B[38;5;241m.\u001B[39mmean(output[\u001B[38;5;124m'\u001B[39m\u001B[38;5;124mfake_score\u001B[39m\u001B[38;5;124m'\u001B[39m]\u001B[38;5;241m.\u001B[39mtolist()))\n\u001B[1;32m     29\u001B[0m gen_scheduler\u001B[38;5;241m.\u001B[39mstep()\n\u001B[0;32m---> 30\u001B[0m \u001B[43mdis_scheduler\u001B[49m\u001B[38;5;241m.\u001B[39mstep()\n\u001B[1;32m     32\u001B[0m \u001B[38;5;28mprint\u001B[39m(\u001B[38;5;124mf\u001B[39m\u001B[38;5;124m'\u001B[39m\u001B[38;5;124m[Epoch \u001B[39m\u001B[38;5;132;01m{\u001B[39;00mepoch\u001B[38;5;132;01m}\u001B[39;00m\u001B[38;5;124m] Train Loss:\u001B[39m\u001B[38;5;130;01m\\t\u001B[39;00m\u001B[38;5;124mgen=\u001B[39m\u001B[38;5;132;01m{\u001B[39;00mnp\u001B[38;5;241m.\u001B[39mmean(gen_losses)\u001B[38;5;132;01m}\u001B[39;00m\u001B[38;5;130;01m\\t\u001B[39;00m\u001B[38;5;124mdis=\u001B[39m\u001B[38;5;132;01m{\u001B[39;00mnp\u001B[38;5;241m.\u001B[39mmean(dis_losses)\u001B[38;5;132;01m}\u001B[39;00m\u001B[38;5;124m'\u001B[39m)\n\u001B[1;32m     33\u001B[0m \u001B[38;5;28mprint\u001B[39m(\u001B[38;5;124mf\u001B[39m\u001B[38;5;124m'\u001B[39m\u001B[38;5;124m[Epoch \u001B[39m\u001B[38;5;132;01m{\u001B[39;00mepoch\u001B[38;5;132;01m}\u001B[39;00m\u001B[38;5;124m] Train Score:\u001B[39m\u001B[38;5;130;01m\\t\u001B[39;00m\u001B[38;5;132;01m{\u001B[39;00mnp\u001B[38;5;241m.\u001B[39mmean(scores)\u001B[38;5;132;01m}\u001B[39;00m\u001B[38;5;124m'\u001B[39m)\n",
      "\u001B[0;31mNameError\u001B[0m: name 'dis_scheduler' is not defined"
     ]
    }
   ],
   "execution_count": 28
  },
  {
   "metadata": {},
   "cell_type": "code",
   "outputs": [],
   "execution_count": null,
   "source": "",
   "id": "5df250c999ffe626"
  }
 ],
 "metadata": {
  "kernelspec": {
   "display_name": "Python 3 (ipykernel)",
   "language": "python",
   "name": "python3"
  },
  "language_info": {
   "codemirror_mode": {
    "name": "ipython",
    "version": 3
   },
   "file_extension": ".py",
   "mimetype": "text/x-python",
   "name": "python",
   "nbconvert_exporter": "python",
   "pygments_lexer": "ipython3",
   "version": "3.10.8"
  },
  "widgets": {
   "application/vnd.jupyter.widget-state+json": {
    "state": {
     "1a6eaadc214a40b8a2fa048f934db6d0": {
      "model_module": "@jupyter-widgets/controls",
      "model_module_version": "1.5.0",
      "model_name": "HTMLModel",
      "state": {
       "layout": "IPY_MODEL_40c664d572b84ef18b87ead26e1394fd",
       "style": "IPY_MODEL_80769a69b258448ba022beb13ba6364a",
       "value": " 2/79 [03:39&lt;2:08:39, 100.26s/it]"
      }
     },
     "1d73892e8c254708ad3918446d1b971d": {
      "model_module": "@jupyter-widgets/controls",
      "model_module_version": "1.5.0",
      "model_name": "HTMLModel",
      "state": {
       "layout": "IPY_MODEL_27d2c0b03e77463ca2d1ef57e2dbb80c",
       "style": "IPY_MODEL_5a505a3ee60b4cec94a909ee77bc9e88",
       "value": "Loading graphs: 100%"
      }
     },
     "21287ad6d5e94484936bd93b6f85b49f": {
      "model_module": "@jupyter-widgets/controls",
      "model_module_version": "1.5.0",
      "model_name": "DescriptionStyleModel",
      "state": {
       "description_width": ""
      }
     },
     "24c3a3de365e4f25b0a1bea6f0fb668c": {
      "model_module": "@jupyter-widgets/controls",
      "model_module_version": "1.5.0",
      "model_name": "HTMLModel",
      "state": {
       "layout": "IPY_MODEL_7418bd6443174ebf9271fa554d755cb6",
       "style": "IPY_MODEL_89249e08e1e3471682df33d354d7719a",
       "value": " 11534/11534 [02:08&lt;00:00, 135.57it/s]"
      }
     },
     "27d2c0b03e77463ca2d1ef57e2dbb80c": {
      "model_module": "@jupyter-widgets/base",
      "model_module_version": "1.2.0",
      "model_name": "LayoutModel",
      "state": {}
     },
     "40c664d572b84ef18b87ead26e1394fd": {
      "model_module": "@jupyter-widgets/base",
      "model_module_version": "1.2.0",
      "model_name": "LayoutModel",
      "state": {}
     },
     "45147e50fc8f4baebe21cd0514d03651": {
      "model_module": "@jupyter-widgets/base",
      "model_module_version": "1.2.0",
      "model_name": "LayoutModel",
      "state": {}
     },
     "4df22612cbdf457690de3a21e160aa38": {
      "model_module": "@jupyter-widgets/base",
      "model_module_version": "1.2.0",
      "model_name": "LayoutModel",
      "state": {}
     },
     "5a505a3ee60b4cec94a909ee77bc9e88": {
      "model_module": "@jupyter-widgets/controls",
      "model_module_version": "1.5.0",
      "model_name": "DescriptionStyleModel",
      "state": {
       "description_width": ""
      }
     },
     "6e77e20f7c004d279691b884ca326aad": {
      "model_module": "@jupyter-widgets/controls",
      "model_module_version": "1.5.0",
      "model_name": "HBoxModel",
      "state": {
       "children": [
        "IPY_MODEL_8b937b880a894a71a97b31715f2a1f4c",
        "IPY_MODEL_db06b803a3a24d01b9b1c2b1e05ae83a",
        "IPY_MODEL_1a6eaadc214a40b8a2fa048f934db6d0"
       ],
       "layout": "IPY_MODEL_4df22612cbdf457690de3a21e160aa38"
      }
     },
     "73376bdf366c44bfb463627255caa47e": {
      "model_module": "@jupyter-widgets/controls",
      "model_module_version": "1.5.0",
      "model_name": "FloatProgressModel",
      "state": {
       "bar_style": "success",
       "layout": "IPY_MODEL_9e7c9d6193914fe0aaa1eebe6b6c059d",
       "max": 11534,
       "style": "IPY_MODEL_8b02a3651eb54471a990e3928f56d001",
       "value": 11534
      }
     },
     "7418bd6443174ebf9271fa554d755cb6": {
      "model_module": "@jupyter-widgets/base",
      "model_module_version": "1.2.0",
      "model_name": "LayoutModel",
      "state": {}
     },
     "80769a69b258448ba022beb13ba6364a": {
      "model_module": "@jupyter-widgets/controls",
      "model_module_version": "1.5.0",
      "model_name": "DescriptionStyleModel",
      "state": {
       "description_width": ""
      }
     },
     "89249e08e1e3471682df33d354d7719a": {
      "model_module": "@jupyter-widgets/controls",
      "model_module_version": "1.5.0",
      "model_name": "DescriptionStyleModel",
      "state": {
       "description_width": ""
      }
     },
     "8b02a3651eb54471a990e3928f56d001": {
      "model_module": "@jupyter-widgets/controls",
      "model_module_version": "1.5.0",
      "model_name": "ProgressStyleModel",
      "state": {
       "description_width": ""
      }
     },
     "8b937b880a894a71a97b31715f2a1f4c": {
      "model_module": "@jupyter-widgets/controls",
      "model_module_version": "1.5.0",
      "model_name": "HTMLModel",
      "state": {
       "layout": "IPY_MODEL_45147e50fc8f4baebe21cd0514d03651",
       "style": "IPY_MODEL_21287ad6d5e94484936bd93b6f85b49f",
       "value": "  3%"
      }
     },
     "93b07268006b4c8ea3508cc0a8708e7a": {
      "model_module": "@jupyter-widgets/base",
      "model_module_version": "1.2.0",
      "model_name": "LayoutModel",
      "state": {}
     },
     "9e7c9d6193914fe0aaa1eebe6b6c059d": {
      "model_module": "@jupyter-widgets/base",
      "model_module_version": "1.2.0",
      "model_name": "LayoutModel",
      "state": {}
     },
     "db06b803a3a24d01b9b1c2b1e05ae83a": {
      "model_module": "@jupyter-widgets/controls",
      "model_module_version": "1.5.0",
      "model_name": "FloatProgressModel",
      "state": {
       "bar_style": "danger",
       "layout": "IPY_MODEL_f4c410d18e994023b2ba1fc6ed46b5d1",
       "max": 79,
       "style": "IPY_MODEL_e659a35bdcf6428abeb1b6f9c003c325",
       "value": 2
      }
     },
     "dcc6a4b6eeac482ab4b1935722126823": {
      "model_module": "@jupyter-widgets/controls",
      "model_module_version": "1.5.0",
      "model_name": "HBoxModel",
      "state": {
       "children": [
        "IPY_MODEL_1d73892e8c254708ad3918446d1b971d",
        "IPY_MODEL_73376bdf366c44bfb463627255caa47e",
        "IPY_MODEL_24c3a3de365e4f25b0a1bea6f0fb668c"
       ],
       "layout": "IPY_MODEL_93b07268006b4c8ea3508cc0a8708e7a"
      }
     },
     "e659a35bdcf6428abeb1b6f9c003c325": {
      "model_module": "@jupyter-widgets/controls",
      "model_module_version": "1.5.0",
      "model_name": "ProgressStyleModel",
      "state": {
       "description_width": ""
      }
     },
     "f4c410d18e994023b2ba1fc6ed46b5d1": {
      "model_module": "@jupyter-widgets/base",
      "model_module_version": "1.2.0",
      "model_name": "LayoutModel",
      "state": {}
     }
    },
    "version_major": 2,
    "version_minor": 0
   }
  }
 },
 "nbformat": 4,
 "nbformat_minor": 5
}
