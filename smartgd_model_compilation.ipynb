{
 "cells": [
  {
   "cell_type": "code",
   "id": "61bcb190-671c-4e75-9469-1bd4c801c29d",
   "metadata": {
    "ExecuteTime": {
     "end_time": "2024-07-21T10:14:39.398807Z",
     "start_time": "2024-07-21T10:14:39.374411Z"
    }
   },
   "source": [
    "%load_ext autoreload\n",
    "%autoreload 2"
   ],
   "outputs": [],
   "execution_count": 1
  },
  {
   "cell_type": "code",
   "source": "import smartgd.model",
   "metadata": {
    "collapsed": false,
    "ExecuteTime": {
     "end_time": "2024-07-21T10:14:42.319210Z",
     "start_time": "2024-07-21T10:14:40.111256Z"
    }
   },
   "id": "902af654d389840f",
   "outputs": [],
   "execution_count": 2
  },
  {
   "cell_type": "code",
   "source": [
    "best_xing_gen_param = smartgd.model.Generator.Params(\n",
    "    num_blocks=10,\n",
    "    block_depth=2,\n",
    "    block_width=8,\n",
    "    block_output_dim=8,\n",
    "    edge_net_depth=1,\n",
    "    edge_net_width=16,\n",
    "    edge_attr_dim=2,\n",
    "    node_attr_dim=2,\n",
    ")"
   ],
   "metadata": {
    "collapsed": false,
    "ExecuteTime": {
     "end_time": "2024-07-21T10:14:43.230136Z",
     "start_time": "2024-07-21T10:14:43.209456Z"
    }
   },
   "id": "44ad3d7cd4c39939",
   "outputs": [],
   "execution_count": 3
  },
  {
   "cell_type": "code",
   "source": [
    "generator = smartgd.model.Generator(\n",
    "    params=best_xing_gen_param,\n",
    ")"
   ],
   "metadata": {
    "collapsed": false,
    "ExecuteTime": {
     "end_time": "2024-07-21T10:14:44.558383Z",
     "start_time": "2024-07-21T10:14:44.202819Z"
    }
   },
   "id": "2b09ba4b6c43d8f0",
   "outputs": [],
   "execution_count": 4
  },
  {
   "cell_type": "code",
   "execution_count": 8,
   "outputs": [],
   "source": [
    "discriminator = smartgd.model.Discriminator(\n",
    "    params=...,\n",
    "    edge_net_config=...,\n",
    "    gnn_config=...,\n",
    "    edge_feat_expansion=...,\n",
    "    eps=...\n",
    ")\n",
    "discriminator_script = jit.script(discriminator)"
   ],
   "metadata": {
    "collapsed": false,
    "ExecuteTime": {
     "end_time": "2023-07-19T05:34:17.618828Z",
     "start_time": "2023-07-19T05:34:14.267540Z"
    }
   },
   "id": "8b885ff87b7414ee"
  },
  {
   "cell_type": "code",
   "execution_count": 10,
   "outputs": [
    {
     "data": {
      "text/plain": "84200"
     },
     "execution_count": 10,
     "metadata": {},
     "output_type": "execute_result"
    }
   ],
   "source": [
    "sum(p.numel() for p in generator.parameters())"
   ],
   "metadata": {
    "collapsed": false,
    "ExecuteTime": {
     "end_time": "2023-07-19T05:35:04.298043Z",
     "start_time": "2023-07-19T05:35:04.230251Z"
    }
   },
   "id": "55ffd278b6a5bf43"
  },
  {
   "cell_type": "code",
   "execution_count": 11,
   "outputs": [
    {
     "data": {
      "text/plain": "1047889"
     },
     "execution_count": 11,
     "metadata": {},
     "output_type": "execute_result"
    }
   ],
   "source": [
    "sum(p.numel() for p in discriminator.parameters())"
   ],
   "metadata": {
    "collapsed": false,
    "ExecuteTime": {
     "end_time": "2023-07-19T05:35:11.655437Z",
     "start_time": "2023-07-19T05:35:11.593580Z"
    }
   },
   "id": "1d351d38afc1321a"
  },
  {
   "cell_type": "code",
   "execution_count": 12,
   "outputs": [
    {
     "data": {
      "text/plain": "1132089"
     },
     "execution_count": 12,
     "metadata": {},
     "output_type": "execute_result"
    }
   ],
   "source": [
    "sum(p.numel() for p in generator.parameters()) + sum(p.numel() for p in discriminator.parameters())"
   ],
   "metadata": {
    "collapsed": false,
    "ExecuteTime": {
     "end_time": "2023-07-19T05:35:42.638847Z",
     "start_time": "2023-07-19T05:35:42.569741Z"
    }
   },
   "id": "d50640c742c1bee2"
  },
  {
   "cell_type": "code",
   "execution_count": 5,
   "outputs": [],
   "source": [
    "dummy_discriminator = smartgd.model.DummyDiscriminator()\n",
    "dummy_discriminator_script = jit.script(dummy_discriminator)"
   ],
   "metadata": {
    "collapsed": false
   },
   "id": "4fc58e9f58c00b3b"
  },
  {
   "cell_type": "code",
   "execution_count": 8,
   "outputs": [
    {
     "data": {
      "text/plain": "{'model_name': 'smartgd_generator_best_xing',\n 'timestamp': '2023-04-14 15:35:18.029064',\n 'class_name': 'Generator',\n 'md5_digest': '3b174bf192b95db229ebdd54a030dc9c',\n 'description': 'SmartGD generator for best xing.',\n 'changelog': {'major': [], 'minor': [], 'patch': []}}"
     },
     "execution_count": 8,
     "metadata": {},
     "output_type": "execute_result"
    }
   ],
   "source": [
    "syncer.save(\n",
    "    model=generator,\n",
    "    name=\"smartgd_generator_best_xing\",\n",
    "    version=\"v1.0\",\n",
    "    configuration=\"default\",\n",
    "    latest=True,\n",
    "    metadata=dict(\n",
    "        description=\"SmartGD generator for best xing.\",\n",
    "        changelog=dict(\n",
    "            major=[],\n",
    "            minor=[],\n",
    "            patch=[]\n",
    "        )\n",
    "    )\n",
    ")"
   ],
   "metadata": {
    "collapsed": false,
    "ExecuteTime": {
     "start_time": "2023-04-14T08:35:09.033992Z",
     "end_time": "2023-04-14T08:35:28.646818Z"
    }
   },
   "id": "a6b283b166f6e542"
  },
  {
   "cell_type": "code",
   "execution_count": null,
   "outputs": [],
   "source": [
    "syncer.save(\n",
    "    model=generator,\n",
    "    name=\"smartgd_generator\",\n",
    "    version=\"v0.4.2\",\n",
    "    configuration=\"default\",\n",
    "    latest=True,\n",
    "    metadata=dict(\n",
    "        description=\"SmartGD generator release candidate.\",\n",
    "        changelog=dict(\n",
    "            major=[],\n",
    "            minor=[\n",
    "                \"Decouple Generator from GraphLayout.\"\n",
    "            ],\n",
    "            patch=[\n",
    "                \"Revert\"\n",
    "            ]\n",
    "        )\n",
    "    )\n",
    ")"
   ],
   "metadata": {
    "collapsed": false
   },
   "id": "b63f735db6e09d78"
  },
  {
   "cell_type": "code",
   "execution_count": 9,
   "outputs": [
    {
     "data": {
      "text/plain": "{'model_name': 'smartgd_discriminator',\n 'timestamp': '2023-03-24 09:14:43.003538',\n 'class_name': 'Discriminator',\n 'md5_digest': 'd55f329a2ea7e85f5adc2dcb28e4e2c8',\n 'description': 'SmartGD discriminator release candidate.',\n 'changelog': {'major': [],\n  'minor': ['Decouple Discriminator from GraphLayout.'],\n  'patch': []}}"
     },
     "execution_count": 9,
     "metadata": {},
     "output_type": "execute_result"
    }
   ],
   "source": [
    "syncer.save(\n",
    "    model=discriminator,\n",
    "    name=\"smartgd_discriminator\",\n",
    "    version=\"v0.4\",\n",
    "    configuration=\"default\",\n",
    "    latest=True,\n",
    "    metadata=dict(\n",
    "        description=\"SmartGD discriminator release candidate.\",\n",
    "        changelog=dict(\n",
    "            major=[],\n",
    "            minor=[\n",
    "                \"Decouple Discriminator from GraphLayout.\"\n",
    "            ],\n",
    "            patch=[]\n",
    "        )\n",
    "    )\n",
    ")"
   ],
   "metadata": {
    "collapsed": false
   },
   "id": "9845888f1cc673e8"
  },
  {
   "cell_type": "code",
   "execution_count": 7,
   "outputs": [
    {
     "data": {
      "text/plain": "{'model_name': 'dummy_discriminator',\n 'timestamp': '2023-03-10 14:14:25.433908',\n 'class_name': 'DummyDiscriminator',\n 'md5_digest': '1f229c7820a2af89325ebd017c6242ab',\n 'description': 'Discriminator wrapped around stress critic.',\n 'changelog': {'major': [], 'minor': [], 'patch': []}}"
     },
     "execution_count": 7,
     "metadata": {},
     "output_type": "execute_result"
    }
   ],
   "source": [
    "syncer.save(\n",
    "    model=dummy_discriminator,\n",
    "    name=\"dummy_discriminator\",\n",
    "    version=\"v0.1\",\n",
    "    configuration=\"default\",\n",
    "    latest=True,\n",
    "    metadata=dict(\n",
    "        description=\"Discriminator wrapped around stress critic.\",\n",
    "        changelog=dict(\n",
    "            major=[],\n",
    "            minor=[],\n",
    "            patch=[]\n",
    "        )\n",
    "    )\n",
    ")"
   ],
   "metadata": {
    "collapsed": false
   },
   "id": "80469fb40cfca959"
  },
  {
   "cell_type": "code",
   "execution_count": null,
   "outputs": [],
   "source": [
    "assert False"
   ],
   "metadata": {
    "collapsed": false
   },
   "id": "21596022d0519a72"
  },
  {
   "cell_type": "markdown",
   "source": [
    "# Debugging"
   ],
   "metadata": {
    "collapsed": false
   },
   "id": "2f3ba4cb83d79152"
  },
  {
   "cell_type": "code",
   "execution_count": 4,
   "outputs": [],
   "source": [
    "from torch.jit import _drop\n",
    "import torch"
   ],
   "metadata": {
    "collapsed": false
   },
   "id": "c75bb154515b46ea"
  },
  {
   "cell_type": "code",
   "execution_count": 7,
   "outputs": [
    {
     "data": {
      "text/plain": "'1.13.1'"
     },
     "execution_count": 7,
     "metadata": {},
     "output_type": "execute_result"
    }
   ],
   "source": [
    "torch.__version__"
   ],
   "metadata": {
    "collapsed": false
   },
   "id": "2d5a6531ac36683f"
  },
  {
   "cell_type": "code",
   "execution_count": 6,
   "outputs": [
    {
     "ename": "AttributeError",
     "evalue": "module 'torch.jit' has no attribute '_drop'",
     "output_type": "error",
     "traceback": [
      "\u001B[0;31m---------------------------------------------------------------------------\u001B[0m",
      "\u001B[0;31mAttributeError\u001B[0m                            Traceback (most recent call last)",
      "Cell \u001B[0;32mIn[6], line 1\u001B[0m\n\u001B[0;32m----> 1\u001B[0m \u001B[43mtorch\u001B[49m\u001B[38;5;241;43m.\u001B[39;49m\u001B[43mjit\u001B[49m\u001B[38;5;241;43m.\u001B[39;49m\u001B[43m_drop\u001B[49m\n",
      "\u001B[0;31mAttributeError\u001B[0m: module 'torch.jit' has no attribute '_drop'"
     ]
    }
   ],
   "source": [
    "torch.jit._drop"
   ],
   "metadata": {
    "collapsed": false
   },
   "id": "6857cbb2821c8d27"
  },
  {
   "cell_type": "code",
   "execution_count": 13,
   "outputs": [],
   "source": [
    "import torch_geometric as pyg\n",
    "from tqdm.auto import tqdm\n",
    "\n",
    "import smartgd.common.datasets\n",
    "import smartgd.common.data"
   ],
   "metadata": {
    "collapsed": false
   },
   "id": "6decc90c8370f819"
  },
  {
   "cell_type": "code",
   "execution_count": 10,
   "outputs": [],
   "source": [
    "dataset = smartgd.common.datasets.RomeDataset()"
   ],
   "metadata": {
    "collapsed": false
   },
   "id": "18937e30043a8142"
  },
  {
   "cell_type": "code",
   "execution_count": 11,
   "outputs": [],
   "source": [
    "loader = pyg.loader.DataLoader(dataset, batch_size=64, shuffle=False)"
   ],
   "metadata": {
    "collapsed": false
   },
   "id": "2a881eb4503a86ae"
  },
  {
   "cell_type": "code",
   "execution_count": 9,
   "outputs": [],
   "source": [
    "manager = smartgd.syncing.LayoutSyncer.get_default_syncer(dataset.name)\n",
    "manager.clear_cache()"
   ],
   "metadata": {
    "collapsed": false
   },
   "id": "b9ceaacc9592676e"
  },
  {
   "cell_type": "code",
   "execution_count": 10,
   "outputs": [],
   "source": [
    "layout_store = manager.load(name=\"neato\")"
   ],
   "metadata": {
    "collapsed": false
   },
   "id": "de3ad1c335cd31df"
  },
  {
   "cell_type": "code",
   "execution_count": 11,
   "outputs": [],
   "source": [
    "append_column = smartgd.datasets.BatchAppendColumn()"
   ],
   "metadata": {
    "collapsed": false
   },
   "id": "28013b6077d0471c"
  },
  {
   "cell_type": "code",
   "execution_count": 12,
   "outputs": [
    {
     "data": {
      "text/plain": "DataBatch(edge_index=[2, 48892], pos=[1728, 2], G=[64], d_attr=[48892], full_index=[2, 48892], adj_index=[2, 4116], n=[64], m=[64], name=[64], batch=[1728], ptr=[65])"
     },
     "execution_count": 12,
     "metadata": {},
     "output_type": "execute_result"
    }
   ],
   "source": [
    "batch = next(iter(loader))\n",
    "batch"
   ],
   "metadata": {
    "collapsed": false
   },
   "id": "111f69869a3bbbf9"
  },
  {
   "cell_type": "code",
   "execution_count": 14,
   "outputs": [],
   "source": [
    "layout = smartgd.common.data.GraphLayout.from_data(batch)"
   ],
   "metadata": {
    "collapsed": false
   },
   "id": "575aa14f37068548"
  },
  {
   "cell_type": "code",
   "execution_count": 16,
   "outputs": [
    {
     "data": {
      "text/plain": "tensor([-20.2282, -24.9498, -14.4922, -19.1925, -32.7737, -42.2417, -21.6693,\n        334.0409, -23.0981, -21.5613, -23.3014, -12.5310, -22.0713, -25.5861,\n        -28.2184, -23.0297,  23.5783, -30.4462, -32.2476, -26.5339, -24.6811,\n        -47.7293, -33.8589, -27.3999, -16.3149, -39.2427, -28.2900,   0.8720,\n        -23.2233, -30.0251,  59.3673, -20.5245, -30.2681, -24.9897, 139.4994,\n        -33.4278, -42.1947, -17.8935, -29.2227, -30.0344, -21.1950, -23.6042,\n        -18.8434, -28.7404,  -3.9573, -29.4019, -33.5943, -46.1760, -19.5406,\n        -19.9414, -15.7198, -27.7010, -29.6864, -17.6775, -31.4162, -24.7525,\n        -17.0214, -88.1658, -20.0404, -23.9476, -38.8266, -16.8175, -25.1628,\n        -23.9730], grad_fn=<ReshapeAliasBackward0>)"
     },
     "execution_count": 16,
     "metadata": {},
     "output_type": "execute_result"
    }
   ],
   "source": [
    "discriminator(layout)"
   ],
   "metadata": {
    "collapsed": false
   },
   "id": "8a6a98f1f458a824"
  },
  {
   "cell_type": "code",
   "execution_count": 17,
   "outputs": [
    {
     "data": {
      "text/plain": "RecursiveScriptModule(\n  original_name=Discriminator\n  (block): RecursiveScriptModule(\n    original_name=DiscriminatorBlock\n    (shared_edge_net): RecursiveScriptModule(\n      original_name=DiscriminatorEdgeNet\n      (edge_feature_provider): RecursiveScriptModule(\n        original_name=EdgeFeatureExpansion\n        (get_edge_feat): TracedModule(original_name=TracedModule)\n      )\n      (mlp): RecursiveScriptModule(\n        original_name=MLP\n        (linear_seq): RecursiveScriptModule(\n          original_name=Sequential\n          (0): RecursiveScriptModule(\n            original_name=LinearLayer\n            (dense): RecursiveScriptModule(original_name=Linear)\n            (bn): RecursiveScriptModule(original_name=BatchNorm1d)\n            (act): RecursiveScriptModule(original_name=LeakyReLU)\n            (dp): RecursiveScriptModule(original_name=Dropout)\n            (skip): RecursiveScriptModule(\n              original_name=SkipConnection\n              (proj): RecursiveScriptModule(original_name=Linear)\n            )\n          )\n          (1): RecursiveScriptModule(\n            original_name=LinearLayer\n            (dense): RecursiveScriptModule(original_name=Linear)\n            (bn): RecursiveScriptModule(original_name=BatchNorm1d)\n            (act): RecursiveScriptModule(original_name=LeakyReLU)\n            (dp): RecursiveScriptModule(original_name=Dropout)\n            (skip): RecursiveScriptModule(\n              original_name=SkipConnection\n              (proj): RecursiveScriptModule(original_name=Linear)\n            )\n          )\n          (2): RecursiveScriptModule(\n            original_name=LinearLayer\n            (dense): RecursiveScriptModule(original_name=Linear)\n            (bn): RecursiveScriptModule(original_name=BatchNorm1d)\n            (act): RecursiveScriptModule(original_name=LeakyReLU)\n            (dp): RecursiveScriptModule(original_name=Dropout)\n            (skip): RecursiveScriptModule(\n              original_name=SkipConnection\n              (proj): RecursiveScriptModule(original_name=Linear)\n            )\n          )\n          (3): RecursiveScriptModule(\n            original_name=LinearLayer\n            (dense): RecursiveScriptModule(original_name=Linear)\n            (bn): RecursiveScriptModule(original_name=BatchNorm1d)\n            (act): RecursiveScriptModule(original_name=LeakyReLU)\n            (dp): RecursiveScriptModule(original_name=Dropout)\n            (skip): RecursiveScriptModule(\n              original_name=SkipConnection\n              (proj): RecursiveScriptModule(original_name=Linear)\n            )\n          )\n          (4): RecursiveScriptModule(\n            original_name=LinearLayer\n            (dense): RecursiveScriptModule(original_name=Linear)\n            (bn): RecursiveScriptModule(original_name=BatchNorm1d)\n            (act): RecursiveScriptModule(original_name=LeakyReLU)\n            (dp): RecursiveScriptModule(original_name=Dropout)\n            (skip): RecursiveScriptModule(\n              original_name=SkipConnection\n              (proj): RecursiveScriptModule(original_name=Linear)\n            )\n          )\n          (5): RecursiveScriptModule(\n            original_name=LinearLayer\n            (dense): RecursiveScriptModule(original_name=Linear)\n            (bn): RecursiveScriptModule(original_name=BatchNorm1d)\n            (act): RecursiveScriptModule(original_name=LeakyReLU)\n            (dp): RecursiveScriptModule(original_name=Dropout)\n            (skip): RecursiveScriptModule(\n              original_name=SkipConnection\n              (proj): RecursiveScriptModule(original_name=Linear)\n            )\n          )\n          (6): RecursiveScriptModule(\n            original_name=LinearLayer\n            (dense): RecursiveScriptModule(original_name=Linear)\n            (bn): RecursiveScriptModule(original_name=BatchNorm1d)\n            (act): RecursiveScriptModule(original_name=LeakyReLU)\n            (dp): RecursiveScriptModule(original_name=Dropout)\n            (skip): RecursiveScriptModule(\n              original_name=SkipConnection\n              (proj): RecursiveScriptModule(original_name=Linear)\n            )\n          )\n          (7): RecursiveScriptModule(\n            original_name=LinearLayer\n            (dense): RecursiveScriptModule(original_name=Linear)\n            (bn): RecursiveScriptModule(original_name=BatchNorm1d)\n            (act): RecursiveScriptModule(original_name=LeakyReLU)\n            (dp): RecursiveScriptModule(original_name=Dropout)\n            (skip): RecursiveScriptModule(\n              original_name=SkipConnection\n              (proj): RecursiveScriptModule(original_name=Linear)\n            )\n          )\n          (8): RecursiveScriptModule(\n            original_name=LinearLayer\n            (dense): RecursiveScriptModule(original_name=Linear)\n            (bn): RecursiveScriptModule(original_name=Identity)\n            (act): RecursiveScriptModule(original_name=LeakyReLU)\n            (dp): RecursiveScriptModule(original_name=Dropout)\n            (skip): RecursiveScriptModule(\n              original_name=SkipConnection\n              (proj): RecursiveScriptModule(original_name=Linear)\n            )\n          )\n        )\n      )\n    )\n    (layer_list): RecursiveScriptModule(\n      original_name=ModuleList\n      (0): RecursiveScriptModule(\n        original_name=NNConvLayer\n        (nnconv_layer): RecursiveScriptModule(\n          original_name=NNConvBasicLayer\n          (conv): RecursiveScriptModule(\n            original_name=NNConvJittable_440565\n            (aggr_module): RecursiveScriptModule(original_name=SumAggregation)\n            (nn): RecursiveScriptModule(\n              original_name=MLP\n              (linear_seq): RecursiveScriptModule(\n                original_name=Sequential\n                (0): RecursiveScriptModule(\n                  original_name=LinearLayer\n                  (dense): RecursiveScriptModule(original_name=Linear)\n                  (bn): RecursiveScriptModule(original_name=BatchNorm1d)\n                  (act): RecursiveScriptModule(original_name=LeakyReLU)\n                  (dp): RecursiveScriptModule(original_name=Dropout)\n                  (skip): RecursiveScriptModule(\n                    original_name=SkipConnection\n                    (proj): RecursiveScriptModule(original_name=Linear)\n                  )\n                )\n                (1): RecursiveScriptModule(\n                  original_name=LinearLayer\n                  (dense): RecursiveScriptModule(original_name=Linear)\n                  (bn): RecursiveScriptModule(original_name=BatchNorm1d)\n                  (act): RecursiveScriptModule(original_name=LeakyReLU)\n                  (dp): RecursiveScriptModule(original_name=Dropout)\n                  (skip): RecursiveScriptModule(\n                    original_name=SkipConnection\n                    (proj): RecursiveScriptModule(original_name=Linear)\n                  )\n                )\n                (2): RecursiveScriptModule(\n                  original_name=LinearLayer\n                  (dense): RecursiveScriptModule(original_name=Linear)\n                  (bn): RecursiveScriptModule(original_name=BatchNorm1d)\n                  (act): RecursiveScriptModule(original_name=LeakyReLU)\n                  (dp): RecursiveScriptModule(original_name=Dropout)\n                  (skip): RecursiveScriptModule(\n                    original_name=SkipConnection\n                    (proj): RecursiveScriptModule(original_name=Linear)\n                  )\n                )\n                (3): RecursiveScriptModule(\n                  original_name=LinearLayer\n                  (dense): RecursiveScriptModule(original_name=Linear)\n                  (bn): RecursiveScriptModule(original_name=BatchNorm1d)\n                  (act): RecursiveScriptModule(original_name=LeakyReLU)\n                  (dp): RecursiveScriptModule(original_name=Dropout)\n                  (skip): RecursiveScriptModule(\n                    original_name=SkipConnection\n                    (proj): RecursiveScriptModule(original_name=Linear)\n                  )\n                )\n                (4): RecursiveScriptModule(\n                  original_name=LinearLayer\n                  (dense): RecursiveScriptModule(original_name=Linear)\n                  (bn): RecursiveScriptModule(original_name=BatchNorm1d)\n                  (act): RecursiveScriptModule(original_name=LeakyReLU)\n                  (dp): RecursiveScriptModule(original_name=Dropout)\n                  (skip): RecursiveScriptModule(\n                    original_name=SkipConnection\n                    (proj): RecursiveScriptModule(original_name=Linear)\n                  )\n                )\n                (5): RecursiveScriptModule(\n                  original_name=LinearLayer\n                  (dense): RecursiveScriptModule(original_name=Linear)\n                  (bn): RecursiveScriptModule(original_name=BatchNorm1d)\n                  (act): RecursiveScriptModule(original_name=LeakyReLU)\n                  (dp): RecursiveScriptModule(original_name=Dropout)\n                  (skip): RecursiveScriptModule(\n                    original_name=SkipConnection\n                    (proj): RecursiveScriptModule(original_name=Linear)\n                  )\n                )\n                (6): RecursiveScriptModule(\n                  original_name=LinearLayer\n                  (dense): RecursiveScriptModule(original_name=Linear)\n                  (bn): RecursiveScriptModule(original_name=BatchNorm1d)\n                  (act): RecursiveScriptModule(original_name=LeakyReLU)\n                  (dp): RecursiveScriptModule(original_name=Dropout)\n                  (skip): RecursiveScriptModule(\n                    original_name=SkipConnection\n                    (proj): RecursiveScriptModule(original_name=Linear)\n                  )\n                )\n                (7): RecursiveScriptModule(\n                  original_name=LinearLayer\n                  (dense): RecursiveScriptModule(original_name=Linear)\n                  (bn): RecursiveScriptModule(original_name=BatchNorm1d)\n                  (act): RecursiveScriptModule(original_name=LeakyReLU)\n                  (dp): RecursiveScriptModule(original_name=Dropout)\n                  (skip): RecursiveScriptModule(\n                    original_name=SkipConnection\n                    (proj): RecursiveScriptModule(original_name=Linear)\n                  )\n                )\n                (8): RecursiveScriptModule(\n                  original_name=LinearLayer\n                  (dense): RecursiveScriptModule(original_name=Linear)\n                  (bn): RecursiveScriptModule(original_name=Identity)\n                  (act): RecursiveScriptModule(original_name=Identity)\n                  (dp): RecursiveScriptModule(original_name=Dropout)\n                  (skip): RecursiveScriptModule(\n                    original_name=SkipConnection\n                    (proj): RecursiveScriptModule(original_name=Linear)\n                  )\n                )\n              )\n            )\n            (lin): RecursiveScriptModule(original_name=Linear)\n          )\n          (dense): RecursiveScriptModule(original_name=Linear)\n          (bn): RecursiveScriptModule(\n            original_name=BatchNormWrapper\n            (bn): RecursiveScriptModule(\n              original_name=BatchNorm\n              (module): RecursiveScriptModule(original_name=BatchNorm1d)\n            )\n          )\n          (act): RecursiveScriptModule(original_name=LeakyReLU)\n          (dp): RecursiveScriptModule(original_name=Dropout)\n          (skip): RecursiveScriptModule(\n            original_name=SkipConnection\n            (proj): RecursiveScriptModule(original_name=Linear)\n          )\n        )\n      )\n      (1): RecursiveScriptModule(\n        original_name=NNConvLayer\n        (nnconv_layer): RecursiveScriptModule(\n          original_name=NNConvBasicLayer\n          (conv): RecursiveScriptModule(\n            original_name=NNConvJittable_440d15\n            (aggr_module): RecursiveScriptModule(original_name=SumAggregation)\n            (nn): RecursiveScriptModule(\n              original_name=MLP\n              (linear_seq): RecursiveScriptModule(\n                original_name=Sequential\n                (0): RecursiveScriptModule(\n                  original_name=LinearLayer\n                  (dense): RecursiveScriptModule(original_name=Linear)\n                  (bn): RecursiveScriptModule(original_name=BatchNorm1d)\n                  (act): RecursiveScriptModule(original_name=LeakyReLU)\n                  (dp): RecursiveScriptModule(original_name=Dropout)\n                  (skip): RecursiveScriptModule(\n                    original_name=SkipConnection\n                    (proj): RecursiveScriptModule(original_name=Linear)\n                  )\n                )\n                (1): RecursiveScriptModule(\n                  original_name=LinearLayer\n                  (dense): RecursiveScriptModule(original_name=Linear)\n                  (bn): RecursiveScriptModule(original_name=BatchNorm1d)\n                  (act): RecursiveScriptModule(original_name=LeakyReLU)\n                  (dp): RecursiveScriptModule(original_name=Dropout)\n                  (skip): RecursiveScriptModule(\n                    original_name=SkipConnection\n                    (proj): RecursiveScriptModule(original_name=Linear)\n                  )\n                )\n                (2): RecursiveScriptModule(\n                  original_name=LinearLayer\n                  (dense): RecursiveScriptModule(original_name=Linear)\n                  (bn): RecursiveScriptModule(original_name=BatchNorm1d)\n                  (act): RecursiveScriptModule(original_name=LeakyReLU)\n                  (dp): RecursiveScriptModule(original_name=Dropout)\n                  (skip): RecursiveScriptModule(\n                    original_name=SkipConnection\n                    (proj): RecursiveScriptModule(original_name=Linear)\n                  )\n                )\n                (3): RecursiveScriptModule(\n                  original_name=LinearLayer\n                  (dense): RecursiveScriptModule(original_name=Linear)\n                  (bn): RecursiveScriptModule(original_name=BatchNorm1d)\n                  (act): RecursiveScriptModule(original_name=LeakyReLU)\n                  (dp): RecursiveScriptModule(original_name=Dropout)\n                  (skip): RecursiveScriptModule(\n                    original_name=SkipConnection\n                    (proj): RecursiveScriptModule(original_name=Linear)\n                  )\n                )\n                (4): RecursiveScriptModule(\n                  original_name=LinearLayer\n                  (dense): RecursiveScriptModule(original_name=Linear)\n                  (bn): RecursiveScriptModule(original_name=BatchNorm1d)\n                  (act): RecursiveScriptModule(original_name=LeakyReLU)\n                  (dp): RecursiveScriptModule(original_name=Dropout)\n                  (skip): RecursiveScriptModule(\n                    original_name=SkipConnection\n                    (proj): RecursiveScriptModule(original_name=Linear)\n                  )\n                )\n                (5): RecursiveScriptModule(\n                  original_name=LinearLayer\n                  (dense): RecursiveScriptModule(original_name=Linear)\n                  (bn): RecursiveScriptModule(original_name=BatchNorm1d)\n                  (act): RecursiveScriptModule(original_name=LeakyReLU)\n                  (dp): RecursiveScriptModule(original_name=Dropout)\n                  (skip): RecursiveScriptModule(\n                    original_name=SkipConnection\n                    (proj): RecursiveScriptModule(original_name=Linear)\n                  )\n                )\n                (6): RecursiveScriptModule(\n                  original_name=LinearLayer\n                  (dense): RecursiveScriptModule(original_name=Linear)\n                  (bn): RecursiveScriptModule(original_name=BatchNorm1d)\n                  (act): RecursiveScriptModule(original_name=LeakyReLU)\n                  (dp): RecursiveScriptModule(original_name=Dropout)\n                  (skip): RecursiveScriptModule(\n                    original_name=SkipConnection\n                    (proj): RecursiveScriptModule(original_name=Linear)\n                  )\n                )\n                (7): RecursiveScriptModule(\n                  original_name=LinearLayer\n                  (dense): RecursiveScriptModule(original_name=Linear)\n                  (bn): RecursiveScriptModule(original_name=BatchNorm1d)\n                  (act): RecursiveScriptModule(original_name=LeakyReLU)\n                  (dp): RecursiveScriptModule(original_name=Dropout)\n                  (skip): RecursiveScriptModule(\n                    original_name=SkipConnection\n                    (proj): RecursiveScriptModule(original_name=Linear)\n                  )\n                )\n                (8): RecursiveScriptModule(\n                  original_name=LinearLayer\n                  (dense): RecursiveScriptModule(original_name=Linear)\n                  (bn): RecursiveScriptModule(original_name=Identity)\n                  (act): RecursiveScriptModule(original_name=Identity)\n                  (dp): RecursiveScriptModule(original_name=Dropout)\n                  (skip): RecursiveScriptModule(\n                    original_name=SkipConnection\n                    (proj): RecursiveScriptModule(original_name=Linear)\n                  )\n                )\n              )\n            )\n            (lin): RecursiveScriptModule(original_name=Linear)\n          )\n          (dense): RecursiveScriptModule(original_name=Linear)\n          (bn): RecursiveScriptModule(\n            original_name=BatchNormWrapper\n            (bn): RecursiveScriptModule(\n              original_name=BatchNorm\n              (module): RecursiveScriptModule(original_name=BatchNorm1d)\n            )\n          )\n          (act): RecursiveScriptModule(original_name=LeakyReLU)\n          (dp): RecursiveScriptModule(original_name=Dropout)\n          (skip): RecursiveScriptModule(\n            original_name=SkipConnection\n            (proj): RecursiveScriptModule(original_name=Linear)\n          )\n        )\n      )\n      (2): RecursiveScriptModule(\n        original_name=NNConvLayer\n        (nnconv_layer): RecursiveScriptModule(\n          original_name=NNConvBasicLayer\n          (conv): RecursiveScriptModule(\n            original_name=NNConvJittable_4414db\n            (aggr_module): RecursiveScriptModule(original_name=SumAggregation)\n            (nn): RecursiveScriptModule(\n              original_name=MLP\n              (linear_seq): RecursiveScriptModule(\n                original_name=Sequential\n                (0): RecursiveScriptModule(\n                  original_name=LinearLayer\n                  (dense): RecursiveScriptModule(original_name=Linear)\n                  (bn): RecursiveScriptModule(original_name=BatchNorm1d)\n                  (act): RecursiveScriptModule(original_name=LeakyReLU)\n                  (dp): RecursiveScriptModule(original_name=Dropout)\n                  (skip): RecursiveScriptModule(\n                    original_name=SkipConnection\n                    (proj): RecursiveScriptModule(original_name=Linear)\n                  )\n                )\n                (1): RecursiveScriptModule(\n                  original_name=LinearLayer\n                  (dense): RecursiveScriptModule(original_name=Linear)\n                  (bn): RecursiveScriptModule(original_name=BatchNorm1d)\n                  (act): RecursiveScriptModule(original_name=LeakyReLU)\n                  (dp): RecursiveScriptModule(original_name=Dropout)\n                  (skip): RecursiveScriptModule(\n                    original_name=SkipConnection\n                    (proj): RecursiveScriptModule(original_name=Linear)\n                  )\n                )\n                (2): RecursiveScriptModule(\n                  original_name=LinearLayer\n                  (dense): RecursiveScriptModule(original_name=Linear)\n                  (bn): RecursiveScriptModule(original_name=BatchNorm1d)\n                  (act): RecursiveScriptModule(original_name=LeakyReLU)\n                  (dp): RecursiveScriptModule(original_name=Dropout)\n                  (skip): RecursiveScriptModule(\n                    original_name=SkipConnection\n                    (proj): RecursiveScriptModule(original_name=Linear)\n                  )\n                )\n                (3): RecursiveScriptModule(\n                  original_name=LinearLayer\n                  (dense): RecursiveScriptModule(original_name=Linear)\n                  (bn): RecursiveScriptModule(original_name=BatchNorm1d)\n                  (act): RecursiveScriptModule(original_name=LeakyReLU)\n                  (dp): RecursiveScriptModule(original_name=Dropout)\n                  (skip): RecursiveScriptModule(\n                    original_name=SkipConnection\n                    (proj): RecursiveScriptModule(original_name=Linear)\n                  )\n                )\n                (4): RecursiveScriptModule(\n                  original_name=LinearLayer\n                  (dense): RecursiveScriptModule(original_name=Linear)\n                  (bn): RecursiveScriptModule(original_name=BatchNorm1d)\n                  (act): RecursiveScriptModule(original_name=LeakyReLU)\n                  (dp): RecursiveScriptModule(original_name=Dropout)\n                  (skip): RecursiveScriptModule(\n                    original_name=SkipConnection\n                    (proj): RecursiveScriptModule(original_name=Linear)\n                  )\n                )\n                (5): RecursiveScriptModule(\n                  original_name=LinearLayer\n                  (dense): RecursiveScriptModule(original_name=Linear)\n                  (bn): RecursiveScriptModule(original_name=BatchNorm1d)\n                  (act): RecursiveScriptModule(original_name=LeakyReLU)\n                  (dp): RecursiveScriptModule(original_name=Dropout)\n                  (skip): RecursiveScriptModule(\n                    original_name=SkipConnection\n                    (proj): RecursiveScriptModule(original_name=Linear)\n                  )\n                )\n                (6): RecursiveScriptModule(\n                  original_name=LinearLayer\n                  (dense): RecursiveScriptModule(original_name=Linear)\n                  (bn): RecursiveScriptModule(original_name=BatchNorm1d)\n                  (act): RecursiveScriptModule(original_name=LeakyReLU)\n                  (dp): RecursiveScriptModule(original_name=Dropout)\n                  (skip): RecursiveScriptModule(\n                    original_name=SkipConnection\n                    (proj): RecursiveScriptModule(original_name=Linear)\n                  )\n                )\n                (7): RecursiveScriptModule(\n                  original_name=LinearLayer\n                  (dense): RecursiveScriptModule(original_name=Linear)\n                  (bn): RecursiveScriptModule(original_name=BatchNorm1d)\n                  (act): RecursiveScriptModule(original_name=LeakyReLU)\n                  (dp): RecursiveScriptModule(original_name=Dropout)\n                  (skip): RecursiveScriptModule(\n                    original_name=SkipConnection\n                    (proj): RecursiveScriptModule(original_name=Linear)\n                  )\n                )\n                (8): RecursiveScriptModule(\n                  original_name=LinearLayer\n                  (dense): RecursiveScriptModule(original_name=Linear)\n                  (bn): RecursiveScriptModule(original_name=Identity)\n                  (act): RecursiveScriptModule(original_name=Identity)\n                  (dp): RecursiveScriptModule(original_name=Dropout)\n                  (skip): RecursiveScriptModule(\n                    original_name=SkipConnection\n                    (proj): RecursiveScriptModule(original_name=Linear)\n                  )\n                )\n              )\n            )\n            (lin): RecursiveScriptModule(original_name=Linear)\n          )\n          (dense): RecursiveScriptModule(original_name=Linear)\n          (bn): RecursiveScriptModule(\n            original_name=BatchNormWrapper\n            (bn): RecursiveScriptModule(\n              original_name=BatchNorm\n              (module): RecursiveScriptModule(original_name=BatchNorm1d)\n            )\n          )\n          (act): RecursiveScriptModule(original_name=LeakyReLU)\n          (dp): RecursiveScriptModule(original_name=Dropout)\n          (skip): RecursiveScriptModule(\n            original_name=SkipConnection\n            (proj): RecursiveScriptModule(original_name=Linear)\n          )\n        )\n      )\n      (3): RecursiveScriptModule(\n        original_name=NNConvLayer\n        (nnconv_layer): RecursiveScriptModule(\n          original_name=NNConvBasicLayer\n          (conv): RecursiveScriptModule(\n            original_name=NNConvJittable_441cac\n            (aggr_module): RecursiveScriptModule(original_name=SumAggregation)\n            (nn): RecursiveScriptModule(\n              original_name=MLP\n              (linear_seq): RecursiveScriptModule(\n                original_name=Sequential\n                (0): RecursiveScriptModule(\n                  original_name=LinearLayer\n                  (dense): RecursiveScriptModule(original_name=Linear)\n                  (bn): RecursiveScriptModule(original_name=BatchNorm1d)\n                  (act): RecursiveScriptModule(original_name=LeakyReLU)\n                  (dp): RecursiveScriptModule(original_name=Dropout)\n                  (skip): RecursiveScriptModule(\n                    original_name=SkipConnection\n                    (proj): RecursiveScriptModule(original_name=Linear)\n                  )\n                )\n                (1): RecursiveScriptModule(\n                  original_name=LinearLayer\n                  (dense): RecursiveScriptModule(original_name=Linear)\n                  (bn): RecursiveScriptModule(original_name=BatchNorm1d)\n                  (act): RecursiveScriptModule(original_name=LeakyReLU)\n                  (dp): RecursiveScriptModule(original_name=Dropout)\n                  (skip): RecursiveScriptModule(\n                    original_name=SkipConnection\n                    (proj): RecursiveScriptModule(original_name=Linear)\n                  )\n                )\n                (2): RecursiveScriptModule(\n                  original_name=LinearLayer\n                  (dense): RecursiveScriptModule(original_name=Linear)\n                  (bn): RecursiveScriptModule(original_name=BatchNorm1d)\n                  (act): RecursiveScriptModule(original_name=LeakyReLU)\n                  (dp): RecursiveScriptModule(original_name=Dropout)\n                  (skip): RecursiveScriptModule(\n                    original_name=SkipConnection\n                    (proj): RecursiveScriptModule(original_name=Linear)\n                  )\n                )\n                (3): RecursiveScriptModule(\n                  original_name=LinearLayer\n                  (dense): RecursiveScriptModule(original_name=Linear)\n                  (bn): RecursiveScriptModule(original_name=BatchNorm1d)\n                  (act): RecursiveScriptModule(original_name=LeakyReLU)\n                  (dp): RecursiveScriptModule(original_name=Dropout)\n                  (skip): RecursiveScriptModule(\n                    original_name=SkipConnection\n                    (proj): RecursiveScriptModule(original_name=Linear)\n                  )\n                )\n                (4): RecursiveScriptModule(\n                  original_name=LinearLayer\n                  (dense): RecursiveScriptModule(original_name=Linear)\n                  (bn): RecursiveScriptModule(original_name=BatchNorm1d)\n                  (act): RecursiveScriptModule(original_name=LeakyReLU)\n                  (dp): RecursiveScriptModule(original_name=Dropout)\n                  (skip): RecursiveScriptModule(\n                    original_name=SkipConnection\n                    (proj): RecursiveScriptModule(original_name=Linear)\n                  )\n                )\n                (5): RecursiveScriptModule(\n                  original_name=LinearLayer\n                  (dense): RecursiveScriptModule(original_name=Linear)\n                  (bn): RecursiveScriptModule(original_name=BatchNorm1d)\n                  (act): RecursiveScriptModule(original_name=LeakyReLU)\n                  (dp): RecursiveScriptModule(original_name=Dropout)\n                  (skip): RecursiveScriptModule(\n                    original_name=SkipConnection\n                    (proj): RecursiveScriptModule(original_name=Linear)\n                  )\n                )\n                (6): RecursiveScriptModule(\n                  original_name=LinearLayer\n                  (dense): RecursiveScriptModule(original_name=Linear)\n                  (bn): RecursiveScriptModule(original_name=BatchNorm1d)\n                  (act): RecursiveScriptModule(original_name=LeakyReLU)\n                  (dp): RecursiveScriptModule(original_name=Dropout)\n                  (skip): RecursiveScriptModule(\n                    original_name=SkipConnection\n                    (proj): RecursiveScriptModule(original_name=Linear)\n                  )\n                )\n                (7): RecursiveScriptModule(\n                  original_name=LinearLayer\n                  (dense): RecursiveScriptModule(original_name=Linear)\n                  (bn): RecursiveScriptModule(original_name=BatchNorm1d)\n                  (act): RecursiveScriptModule(original_name=LeakyReLU)\n                  (dp): RecursiveScriptModule(original_name=Dropout)\n                  (skip): RecursiveScriptModule(\n                    original_name=SkipConnection\n                    (proj): RecursiveScriptModule(original_name=Linear)\n                  )\n                )\n                (8): RecursiveScriptModule(\n                  original_name=LinearLayer\n                  (dense): RecursiveScriptModule(original_name=Linear)\n                  (bn): RecursiveScriptModule(original_name=Identity)\n                  (act): RecursiveScriptModule(original_name=Identity)\n                  (dp): RecursiveScriptModule(original_name=Dropout)\n                  (skip): RecursiveScriptModule(\n                    original_name=SkipConnection\n                    (proj): RecursiveScriptModule(original_name=Linear)\n                  )\n                )\n              )\n            )\n            (lin): RecursiveScriptModule(original_name=Linear)\n          )\n          (dense): RecursiveScriptModule(original_name=Linear)\n          (bn): RecursiveScriptModule(\n            original_name=BatchNormWrapper\n            (bn): RecursiveScriptModule(\n              original_name=BatchNorm\n              (module): RecursiveScriptModule(original_name=BatchNorm1d)\n            )\n          )\n          (act): RecursiveScriptModule(original_name=LeakyReLU)\n          (dp): RecursiveScriptModule(original_name=Dropout)\n          (skip): RecursiveScriptModule(\n            original_name=SkipConnection\n            (proj): RecursiveScriptModule(original_name=Linear)\n          )\n        )\n      )\n      (4): RecursiveScriptModule(\n        original_name=NNConvLayer\n        (nnconv_layer): RecursiveScriptModule(\n          original_name=NNConvBasicLayer\n          (conv): RecursiveScriptModule(\n            original_name=NNConvJittable_442447\n            (aggr_module): RecursiveScriptModule(original_name=SumAggregation)\n            (nn): RecursiveScriptModule(\n              original_name=MLP\n              (linear_seq): RecursiveScriptModule(\n                original_name=Sequential\n                (0): RecursiveScriptModule(\n                  original_name=LinearLayer\n                  (dense): RecursiveScriptModule(original_name=Linear)\n                  (bn): RecursiveScriptModule(original_name=BatchNorm1d)\n                  (act): RecursiveScriptModule(original_name=LeakyReLU)\n                  (dp): RecursiveScriptModule(original_name=Dropout)\n                  (skip): RecursiveScriptModule(\n                    original_name=SkipConnection\n                    (proj): RecursiveScriptModule(original_name=Linear)\n                  )\n                )\n                (1): RecursiveScriptModule(\n                  original_name=LinearLayer\n                  (dense): RecursiveScriptModule(original_name=Linear)\n                  (bn): RecursiveScriptModule(original_name=BatchNorm1d)\n                  (act): RecursiveScriptModule(original_name=LeakyReLU)\n                  (dp): RecursiveScriptModule(original_name=Dropout)\n                  (skip): RecursiveScriptModule(\n                    original_name=SkipConnection\n                    (proj): RecursiveScriptModule(original_name=Linear)\n                  )\n                )\n                (2): RecursiveScriptModule(\n                  original_name=LinearLayer\n                  (dense): RecursiveScriptModule(original_name=Linear)\n                  (bn): RecursiveScriptModule(original_name=BatchNorm1d)\n                  (act): RecursiveScriptModule(original_name=LeakyReLU)\n                  (dp): RecursiveScriptModule(original_name=Dropout)\n                  (skip): RecursiveScriptModule(\n                    original_name=SkipConnection\n                    (proj): RecursiveScriptModule(original_name=Linear)\n                  )\n                )\n                (3): RecursiveScriptModule(\n                  original_name=LinearLayer\n                  (dense): RecursiveScriptModule(original_name=Linear)\n                  (bn): RecursiveScriptModule(original_name=BatchNorm1d)\n                  (act): RecursiveScriptModule(original_name=LeakyReLU)\n                  (dp): RecursiveScriptModule(original_name=Dropout)\n                  (skip): RecursiveScriptModule(\n                    original_name=SkipConnection\n                    (proj): RecursiveScriptModule(original_name=Linear)\n                  )\n                )\n                (4): RecursiveScriptModule(\n                  original_name=LinearLayer\n                  (dense): RecursiveScriptModule(original_name=Linear)\n                  (bn): RecursiveScriptModule(original_name=BatchNorm1d)\n                  (act): RecursiveScriptModule(original_name=LeakyReLU)\n                  (dp): RecursiveScriptModule(original_name=Dropout)\n                  (skip): RecursiveScriptModule(\n                    original_name=SkipConnection\n                    (proj): RecursiveScriptModule(original_name=Linear)\n                  )\n                )\n                (5): RecursiveScriptModule(\n                  original_name=LinearLayer\n                  (dense): RecursiveScriptModule(original_name=Linear)\n                  (bn): RecursiveScriptModule(original_name=BatchNorm1d)\n                  (act): RecursiveScriptModule(original_name=LeakyReLU)\n                  (dp): RecursiveScriptModule(original_name=Dropout)\n                  (skip): RecursiveScriptModule(\n                    original_name=SkipConnection\n                    (proj): RecursiveScriptModule(original_name=Linear)\n                  )\n                )\n                (6): RecursiveScriptModule(\n                  original_name=LinearLayer\n                  (dense): RecursiveScriptModule(original_name=Linear)\n                  (bn): RecursiveScriptModule(original_name=BatchNorm1d)\n                  (act): RecursiveScriptModule(original_name=LeakyReLU)\n                  (dp): RecursiveScriptModule(original_name=Dropout)\n                  (skip): RecursiveScriptModule(\n                    original_name=SkipConnection\n                    (proj): RecursiveScriptModule(original_name=Linear)\n                  )\n                )\n                (7): RecursiveScriptModule(\n                  original_name=LinearLayer\n                  (dense): RecursiveScriptModule(original_name=Linear)\n                  (bn): RecursiveScriptModule(original_name=BatchNorm1d)\n                  (act): RecursiveScriptModule(original_name=LeakyReLU)\n                  (dp): RecursiveScriptModule(original_name=Dropout)\n                  (skip): RecursiveScriptModule(\n                    original_name=SkipConnection\n                    (proj): RecursiveScriptModule(original_name=Linear)\n                  )\n                )\n                (8): RecursiveScriptModule(\n                  original_name=LinearLayer\n                  (dense): RecursiveScriptModule(original_name=Linear)\n                  (bn): RecursiveScriptModule(original_name=Identity)\n                  (act): RecursiveScriptModule(original_name=Identity)\n                  (dp): RecursiveScriptModule(original_name=Dropout)\n                  (skip): RecursiveScriptModule(\n                    original_name=SkipConnection\n                    (proj): RecursiveScriptModule(original_name=Linear)\n                  )\n                )\n              )\n            )\n            (lin): RecursiveScriptModule(original_name=Linear)\n          )\n          (dense): RecursiveScriptModule(original_name=Linear)\n          (bn): RecursiveScriptModule(\n            original_name=BatchNormWrapper\n            (bn): RecursiveScriptModule(\n              original_name=BatchNorm\n              (module): RecursiveScriptModule(original_name=BatchNorm1d)\n            )\n          )\n          (act): RecursiveScriptModule(original_name=LeakyReLU)\n          (dp): RecursiveScriptModule(original_name=Dropout)\n          (skip): RecursiveScriptModule(\n            original_name=SkipConnection\n            (proj): RecursiveScriptModule(original_name=Linear)\n          )\n        )\n      )\n      (5): RecursiveScriptModule(\n        original_name=NNConvLayer\n        (nnconv_layer): RecursiveScriptModule(\n          original_name=NNConvBasicLayer\n          (conv): RecursiveScriptModule(\n            original_name=NNConvJittable_442bab\n            (aggr_module): RecursiveScriptModule(original_name=SumAggregation)\n            (nn): RecursiveScriptModule(\n              original_name=MLP\n              (linear_seq): RecursiveScriptModule(\n                original_name=Sequential\n                (0): RecursiveScriptModule(\n                  original_name=LinearLayer\n                  (dense): RecursiveScriptModule(original_name=Linear)\n                  (bn): RecursiveScriptModule(original_name=BatchNorm1d)\n                  (act): RecursiveScriptModule(original_name=LeakyReLU)\n                  (dp): RecursiveScriptModule(original_name=Dropout)\n                  (skip): RecursiveScriptModule(\n                    original_name=SkipConnection\n                    (proj): RecursiveScriptModule(original_name=Linear)\n                  )\n                )\n                (1): RecursiveScriptModule(\n                  original_name=LinearLayer\n                  (dense): RecursiveScriptModule(original_name=Linear)\n                  (bn): RecursiveScriptModule(original_name=BatchNorm1d)\n                  (act): RecursiveScriptModule(original_name=LeakyReLU)\n                  (dp): RecursiveScriptModule(original_name=Dropout)\n                  (skip): RecursiveScriptModule(\n                    original_name=SkipConnection\n                    (proj): RecursiveScriptModule(original_name=Linear)\n                  )\n                )\n                (2): RecursiveScriptModule(\n                  original_name=LinearLayer\n                  (dense): RecursiveScriptModule(original_name=Linear)\n                  (bn): RecursiveScriptModule(original_name=BatchNorm1d)\n                  (act): RecursiveScriptModule(original_name=LeakyReLU)\n                  (dp): RecursiveScriptModule(original_name=Dropout)\n                  (skip): RecursiveScriptModule(\n                    original_name=SkipConnection\n                    (proj): RecursiveScriptModule(original_name=Linear)\n                  )\n                )\n                (3): RecursiveScriptModule(\n                  original_name=LinearLayer\n                  (dense): RecursiveScriptModule(original_name=Linear)\n                  (bn): RecursiveScriptModule(original_name=BatchNorm1d)\n                  (act): RecursiveScriptModule(original_name=LeakyReLU)\n                  (dp): RecursiveScriptModule(original_name=Dropout)\n                  (skip): RecursiveScriptModule(\n                    original_name=SkipConnection\n                    (proj): RecursiveScriptModule(original_name=Linear)\n                  )\n                )\n                (4): RecursiveScriptModule(\n                  original_name=LinearLayer\n                  (dense): RecursiveScriptModule(original_name=Linear)\n                  (bn): RecursiveScriptModule(original_name=BatchNorm1d)\n                  (act): RecursiveScriptModule(original_name=LeakyReLU)\n                  (dp): RecursiveScriptModule(original_name=Dropout)\n                  (skip): RecursiveScriptModule(\n                    original_name=SkipConnection\n                    (proj): RecursiveScriptModule(original_name=Linear)\n                  )\n                )\n                (5): RecursiveScriptModule(\n                  original_name=LinearLayer\n                  (dense): RecursiveScriptModule(original_name=Linear)\n                  (bn): RecursiveScriptModule(original_name=BatchNorm1d)\n                  (act): RecursiveScriptModule(original_name=LeakyReLU)\n                  (dp): RecursiveScriptModule(original_name=Dropout)\n                  (skip): RecursiveScriptModule(\n                    original_name=SkipConnection\n                    (proj): RecursiveScriptModule(original_name=Linear)\n                  )\n                )\n                (6): RecursiveScriptModule(\n                  original_name=LinearLayer\n                  (dense): RecursiveScriptModule(original_name=Linear)\n                  (bn): RecursiveScriptModule(original_name=BatchNorm1d)\n                  (act): RecursiveScriptModule(original_name=LeakyReLU)\n                  (dp): RecursiveScriptModule(original_name=Dropout)\n                  (skip): RecursiveScriptModule(\n                    original_name=SkipConnection\n                    (proj): RecursiveScriptModule(original_name=Linear)\n                  )\n                )\n                (7): RecursiveScriptModule(\n                  original_name=LinearLayer\n                  (dense): RecursiveScriptModule(original_name=Linear)\n                  (bn): RecursiveScriptModule(original_name=BatchNorm1d)\n                  (act): RecursiveScriptModule(original_name=LeakyReLU)\n                  (dp): RecursiveScriptModule(original_name=Dropout)\n                  (skip): RecursiveScriptModule(\n                    original_name=SkipConnection\n                    (proj): RecursiveScriptModule(original_name=Linear)\n                  )\n                )\n                (8): RecursiveScriptModule(\n                  original_name=LinearLayer\n                  (dense): RecursiveScriptModule(original_name=Linear)\n                  (bn): RecursiveScriptModule(original_name=Identity)\n                  (act): RecursiveScriptModule(original_name=Identity)\n                  (dp): RecursiveScriptModule(original_name=Dropout)\n                  (skip): RecursiveScriptModule(\n                    original_name=SkipConnection\n                    (proj): RecursiveScriptModule(original_name=Linear)\n                  )\n                )\n              )\n            )\n            (lin): RecursiveScriptModule(original_name=Linear)\n          )\n          (dense): RecursiveScriptModule(original_name=Linear)\n          (bn): RecursiveScriptModule(\n            original_name=BatchNormWrapper\n            (bn): RecursiveScriptModule(\n              original_name=BatchNorm\n              (module): RecursiveScriptModule(original_name=BatchNorm1d)\n            )\n          )\n          (act): RecursiveScriptModule(original_name=LeakyReLU)\n          (dp): RecursiveScriptModule(original_name=Dropout)\n          (skip): RecursiveScriptModule(\n            original_name=SkipConnection\n            (proj): RecursiveScriptModule(original_name=Linear)\n          )\n        )\n      )\n      (6): RecursiveScriptModule(\n        original_name=NNConvLayer\n        (nnconv_layer): RecursiveScriptModule(\n          original_name=NNConvBasicLayer\n          (conv): RecursiveScriptModule(\n            original_name=NNConvJittable_4432f9\n            (aggr_module): RecursiveScriptModule(original_name=SumAggregation)\n            (nn): RecursiveScriptModule(\n              original_name=MLP\n              (linear_seq): RecursiveScriptModule(\n                original_name=Sequential\n                (0): RecursiveScriptModule(\n                  original_name=LinearLayer\n                  (dense): RecursiveScriptModule(original_name=Linear)\n                  (bn): RecursiveScriptModule(original_name=BatchNorm1d)\n                  (act): RecursiveScriptModule(original_name=LeakyReLU)\n                  (dp): RecursiveScriptModule(original_name=Dropout)\n                  (skip): RecursiveScriptModule(\n                    original_name=SkipConnection\n                    (proj): RecursiveScriptModule(original_name=Linear)\n                  )\n                )\n                (1): RecursiveScriptModule(\n                  original_name=LinearLayer\n                  (dense): RecursiveScriptModule(original_name=Linear)\n                  (bn): RecursiveScriptModule(original_name=BatchNorm1d)\n                  (act): RecursiveScriptModule(original_name=LeakyReLU)\n                  (dp): RecursiveScriptModule(original_name=Dropout)\n                  (skip): RecursiveScriptModule(\n                    original_name=SkipConnection\n                    (proj): RecursiveScriptModule(original_name=Linear)\n                  )\n                )\n                (2): RecursiveScriptModule(\n                  original_name=LinearLayer\n                  (dense): RecursiveScriptModule(original_name=Linear)\n                  (bn): RecursiveScriptModule(original_name=BatchNorm1d)\n                  (act): RecursiveScriptModule(original_name=LeakyReLU)\n                  (dp): RecursiveScriptModule(original_name=Dropout)\n                  (skip): RecursiveScriptModule(\n                    original_name=SkipConnection\n                    (proj): RecursiveScriptModule(original_name=Linear)\n                  )\n                )\n                (3): RecursiveScriptModule(\n                  original_name=LinearLayer\n                  (dense): RecursiveScriptModule(original_name=Linear)\n                  (bn): RecursiveScriptModule(original_name=BatchNorm1d)\n                  (act): RecursiveScriptModule(original_name=LeakyReLU)\n                  (dp): RecursiveScriptModule(original_name=Dropout)\n                  (skip): RecursiveScriptModule(\n                    original_name=SkipConnection\n                    (proj): RecursiveScriptModule(original_name=Linear)\n                  )\n                )\n                (4): RecursiveScriptModule(\n                  original_name=LinearLayer\n                  (dense): RecursiveScriptModule(original_name=Linear)\n                  (bn): RecursiveScriptModule(original_name=BatchNorm1d)\n                  (act): RecursiveScriptModule(original_name=LeakyReLU)\n                  (dp): RecursiveScriptModule(original_name=Dropout)\n                  (skip): RecursiveScriptModule(\n                    original_name=SkipConnection\n                    (proj): RecursiveScriptModule(original_name=Linear)\n                  )\n                )\n                (5): RecursiveScriptModule(\n                  original_name=LinearLayer\n                  (dense): RecursiveScriptModule(original_name=Linear)\n                  (bn): RecursiveScriptModule(original_name=BatchNorm1d)\n                  (act): RecursiveScriptModule(original_name=LeakyReLU)\n                  (dp): RecursiveScriptModule(original_name=Dropout)\n                  (skip): RecursiveScriptModule(\n                    original_name=SkipConnection\n                    (proj): RecursiveScriptModule(original_name=Linear)\n                  )\n                )\n                (6): RecursiveScriptModule(\n                  original_name=LinearLayer\n                  (dense): RecursiveScriptModule(original_name=Linear)\n                  (bn): RecursiveScriptModule(original_name=BatchNorm1d)\n                  (act): RecursiveScriptModule(original_name=LeakyReLU)\n                  (dp): RecursiveScriptModule(original_name=Dropout)\n                  (skip): RecursiveScriptModule(\n                    original_name=SkipConnection\n                    (proj): RecursiveScriptModule(original_name=Linear)\n                  )\n                )\n                (7): RecursiveScriptModule(\n                  original_name=LinearLayer\n                  (dense): RecursiveScriptModule(original_name=Linear)\n                  (bn): RecursiveScriptModule(original_name=BatchNorm1d)\n                  (act): RecursiveScriptModule(original_name=LeakyReLU)\n                  (dp): RecursiveScriptModule(original_name=Dropout)\n                  (skip): RecursiveScriptModule(\n                    original_name=SkipConnection\n                    (proj): RecursiveScriptModule(original_name=Linear)\n                  )\n                )\n                (8): RecursiveScriptModule(\n                  original_name=LinearLayer\n                  (dense): RecursiveScriptModule(original_name=Linear)\n                  (bn): RecursiveScriptModule(original_name=Identity)\n                  (act): RecursiveScriptModule(original_name=Identity)\n                  (dp): RecursiveScriptModule(original_name=Dropout)\n                  (skip): RecursiveScriptModule(\n                    original_name=SkipConnection\n                    (proj): RecursiveScriptModule(original_name=Linear)\n                  )\n                )\n              )\n            )\n            (lin): RecursiveScriptModule(original_name=Linear)\n          )\n          (dense): RecursiveScriptModule(original_name=Linear)\n          (bn): RecursiveScriptModule(\n            original_name=BatchNormWrapper\n            (bn): RecursiveScriptModule(\n              original_name=BatchNorm\n              (module): RecursiveScriptModule(original_name=BatchNorm1d)\n            )\n          )\n          (act): RecursiveScriptModule(original_name=LeakyReLU)\n          (dp): RecursiveScriptModule(original_name=Dropout)\n          (skip): RecursiveScriptModule(\n            original_name=SkipConnection\n            (proj): RecursiveScriptModule(original_name=Linear)\n          )\n        )\n      )\n      (7): RecursiveScriptModule(\n        original_name=NNConvLayer\n        (nnconv_layer): RecursiveScriptModule(\n          original_name=NNConvBasicLayer\n          (conv): RecursiveScriptModule(\n            original_name=NNConvJittable_443a1f\n            (aggr_module): RecursiveScriptModule(original_name=SumAggregation)\n            (nn): RecursiveScriptModule(\n              original_name=MLP\n              (linear_seq): RecursiveScriptModule(\n                original_name=Sequential\n                (0): RecursiveScriptModule(\n                  original_name=LinearLayer\n                  (dense): RecursiveScriptModule(original_name=Linear)\n                  (bn): RecursiveScriptModule(original_name=BatchNorm1d)\n                  (act): RecursiveScriptModule(original_name=LeakyReLU)\n                  (dp): RecursiveScriptModule(original_name=Dropout)\n                  (skip): RecursiveScriptModule(\n                    original_name=SkipConnection\n                    (proj): RecursiveScriptModule(original_name=Linear)\n                  )\n                )\n                (1): RecursiveScriptModule(\n                  original_name=LinearLayer\n                  (dense): RecursiveScriptModule(original_name=Linear)\n                  (bn): RecursiveScriptModule(original_name=BatchNorm1d)\n                  (act): RecursiveScriptModule(original_name=LeakyReLU)\n                  (dp): RecursiveScriptModule(original_name=Dropout)\n                  (skip): RecursiveScriptModule(\n                    original_name=SkipConnection\n                    (proj): RecursiveScriptModule(original_name=Linear)\n                  )\n                )\n                (2): RecursiveScriptModule(\n                  original_name=LinearLayer\n                  (dense): RecursiveScriptModule(original_name=Linear)\n                  (bn): RecursiveScriptModule(original_name=BatchNorm1d)\n                  (act): RecursiveScriptModule(original_name=LeakyReLU)\n                  (dp): RecursiveScriptModule(original_name=Dropout)\n                  (skip): RecursiveScriptModule(\n                    original_name=SkipConnection\n                    (proj): RecursiveScriptModule(original_name=Linear)\n                  )\n                )\n                (3): RecursiveScriptModule(\n                  original_name=LinearLayer\n                  (dense): RecursiveScriptModule(original_name=Linear)\n                  (bn): RecursiveScriptModule(original_name=BatchNorm1d)\n                  (act): RecursiveScriptModule(original_name=LeakyReLU)\n                  (dp): RecursiveScriptModule(original_name=Dropout)\n                  (skip): RecursiveScriptModule(\n                    original_name=SkipConnection\n                    (proj): RecursiveScriptModule(original_name=Linear)\n                  )\n                )\n                (4): RecursiveScriptModule(\n                  original_name=LinearLayer\n                  (dense): RecursiveScriptModule(original_name=Linear)\n                  (bn): RecursiveScriptModule(original_name=BatchNorm1d)\n                  (act): RecursiveScriptModule(original_name=LeakyReLU)\n                  (dp): RecursiveScriptModule(original_name=Dropout)\n                  (skip): RecursiveScriptModule(\n                    original_name=SkipConnection\n                    (proj): RecursiveScriptModule(original_name=Linear)\n                  )\n                )\n                (5): RecursiveScriptModule(\n                  original_name=LinearLayer\n                  (dense): RecursiveScriptModule(original_name=Linear)\n                  (bn): RecursiveScriptModule(original_name=BatchNorm1d)\n                  (act): RecursiveScriptModule(original_name=LeakyReLU)\n                  (dp): RecursiveScriptModule(original_name=Dropout)\n                  (skip): RecursiveScriptModule(\n                    original_name=SkipConnection\n                    (proj): RecursiveScriptModule(original_name=Linear)\n                  )\n                )\n                (6): RecursiveScriptModule(\n                  original_name=LinearLayer\n                  (dense): RecursiveScriptModule(original_name=Linear)\n                  (bn): RecursiveScriptModule(original_name=BatchNorm1d)\n                  (act): RecursiveScriptModule(original_name=LeakyReLU)\n                  (dp): RecursiveScriptModule(original_name=Dropout)\n                  (skip): RecursiveScriptModule(\n                    original_name=SkipConnection\n                    (proj): RecursiveScriptModule(original_name=Linear)\n                  )\n                )\n                (7): RecursiveScriptModule(\n                  original_name=LinearLayer\n                  (dense): RecursiveScriptModule(original_name=Linear)\n                  (bn): RecursiveScriptModule(original_name=BatchNorm1d)\n                  (act): RecursiveScriptModule(original_name=LeakyReLU)\n                  (dp): RecursiveScriptModule(original_name=Dropout)\n                  (skip): RecursiveScriptModule(\n                    original_name=SkipConnection\n                    (proj): RecursiveScriptModule(original_name=Linear)\n                  )\n                )\n                (8): RecursiveScriptModule(\n                  original_name=LinearLayer\n                  (dense): RecursiveScriptModule(original_name=Linear)\n                  (bn): RecursiveScriptModule(original_name=Identity)\n                  (act): RecursiveScriptModule(original_name=Identity)\n                  (dp): RecursiveScriptModule(original_name=Dropout)\n                  (skip): RecursiveScriptModule(\n                    original_name=SkipConnection\n                    (proj): RecursiveScriptModule(original_name=Linear)\n                  )\n                )\n              )\n            )\n            (lin): RecursiveScriptModule(original_name=Linear)\n          )\n          (dense): RecursiveScriptModule(original_name=Linear)\n          (bn): RecursiveScriptModule(\n            original_name=BatchNormWrapper\n            (bn): RecursiveScriptModule(\n              original_name=BatchNorm\n              (module): RecursiveScriptModule(original_name=BatchNorm1d)\n            )\n          )\n          (act): RecursiveScriptModule(original_name=LeakyReLU)\n          (dp): RecursiveScriptModule(original_name=Dropout)\n          (skip): RecursiveScriptModule(\n            original_name=SkipConnection\n            (proj): RecursiveScriptModule(original_name=Linear)\n          )\n        )\n      )\n      (8): RecursiveScriptModule(\n        original_name=NNConvLayer\n        (nnconv_layer): RecursiveScriptModule(\n          original_name=NNConvBasicLayer\n          (conv): RecursiveScriptModule(\n            original_name=NNConvJittable_4440ff\n            (aggr_module): RecursiveScriptModule(original_name=SumAggregation)\n            (nn): RecursiveScriptModule(\n              original_name=MLP\n              (linear_seq): RecursiveScriptModule(\n                original_name=Sequential\n                (0): RecursiveScriptModule(\n                  original_name=LinearLayer\n                  (dense): RecursiveScriptModule(original_name=Linear)\n                  (bn): RecursiveScriptModule(original_name=BatchNorm1d)\n                  (act): RecursiveScriptModule(original_name=LeakyReLU)\n                  (dp): RecursiveScriptModule(original_name=Dropout)\n                  (skip): RecursiveScriptModule(\n                    original_name=SkipConnection\n                    (proj): RecursiveScriptModule(original_name=Linear)\n                  )\n                )\n                (1): RecursiveScriptModule(\n                  original_name=LinearLayer\n                  (dense): RecursiveScriptModule(original_name=Linear)\n                  (bn): RecursiveScriptModule(original_name=BatchNorm1d)\n                  (act): RecursiveScriptModule(original_name=LeakyReLU)\n                  (dp): RecursiveScriptModule(original_name=Dropout)\n                  (skip): RecursiveScriptModule(\n                    original_name=SkipConnection\n                    (proj): RecursiveScriptModule(original_name=Linear)\n                  )\n                )\n                (2): RecursiveScriptModule(\n                  original_name=LinearLayer\n                  (dense): RecursiveScriptModule(original_name=Linear)\n                  (bn): RecursiveScriptModule(original_name=BatchNorm1d)\n                  (act): RecursiveScriptModule(original_name=LeakyReLU)\n                  (dp): RecursiveScriptModule(original_name=Dropout)\n                  (skip): RecursiveScriptModule(\n                    original_name=SkipConnection\n                    (proj): RecursiveScriptModule(original_name=Linear)\n                  )\n                )\n                (3): RecursiveScriptModule(\n                  original_name=LinearLayer\n                  (dense): RecursiveScriptModule(original_name=Linear)\n                  (bn): RecursiveScriptModule(original_name=BatchNorm1d)\n                  (act): RecursiveScriptModule(original_name=LeakyReLU)\n                  (dp): RecursiveScriptModule(original_name=Dropout)\n                  (skip): RecursiveScriptModule(\n                    original_name=SkipConnection\n                    (proj): RecursiveScriptModule(original_name=Linear)\n                  )\n                )\n                (4): RecursiveScriptModule(\n                  original_name=LinearLayer\n                  (dense): RecursiveScriptModule(original_name=Linear)\n                  (bn): RecursiveScriptModule(original_name=BatchNorm1d)\n                  (act): RecursiveScriptModule(original_name=LeakyReLU)\n                  (dp): RecursiveScriptModule(original_name=Dropout)\n                  (skip): RecursiveScriptModule(\n                    original_name=SkipConnection\n                    (proj): RecursiveScriptModule(original_name=Linear)\n                  )\n                )\n                (5): RecursiveScriptModule(\n                  original_name=LinearLayer\n                  (dense): RecursiveScriptModule(original_name=Linear)\n                  (bn): RecursiveScriptModule(original_name=BatchNorm1d)\n                  (act): RecursiveScriptModule(original_name=LeakyReLU)\n                  (dp): RecursiveScriptModule(original_name=Dropout)\n                  (skip): RecursiveScriptModule(\n                    original_name=SkipConnection\n                    (proj): RecursiveScriptModule(original_name=Linear)\n                  )\n                )\n                (6): RecursiveScriptModule(\n                  original_name=LinearLayer\n                  (dense): RecursiveScriptModule(original_name=Linear)\n                  (bn): RecursiveScriptModule(original_name=BatchNorm1d)\n                  (act): RecursiveScriptModule(original_name=LeakyReLU)\n                  (dp): RecursiveScriptModule(original_name=Dropout)\n                  (skip): RecursiveScriptModule(\n                    original_name=SkipConnection\n                    (proj): RecursiveScriptModule(original_name=Linear)\n                  )\n                )\n                (7): RecursiveScriptModule(\n                  original_name=LinearLayer\n                  (dense): RecursiveScriptModule(original_name=Linear)\n                  (bn): RecursiveScriptModule(original_name=BatchNorm1d)\n                  (act): RecursiveScriptModule(original_name=LeakyReLU)\n                  (dp): RecursiveScriptModule(original_name=Dropout)\n                  (skip): RecursiveScriptModule(\n                    original_name=SkipConnection\n                    (proj): RecursiveScriptModule(original_name=Linear)\n                  )\n                )\n                (8): RecursiveScriptModule(\n                  original_name=LinearLayer\n                  (dense): RecursiveScriptModule(original_name=Linear)\n                  (bn): RecursiveScriptModule(original_name=Identity)\n                  (act): RecursiveScriptModule(original_name=Identity)\n                  (dp): RecursiveScriptModule(original_name=Dropout)\n                  (skip): RecursiveScriptModule(\n                    original_name=SkipConnection\n                    (proj): RecursiveScriptModule(original_name=Linear)\n                  )\n                )\n              )\n            )\n            (lin): RecursiveScriptModule(original_name=Linear)\n          )\n          (dense): RecursiveScriptModule(original_name=Linear)\n          (bn): RecursiveScriptModule(\n            original_name=BatchNormWrapper\n            (bn): RecursiveScriptModule(\n              original_name=BatchNorm\n              (module): RecursiveScriptModule(original_name=BatchNorm1d)\n            )\n          )\n          (act): RecursiveScriptModule(original_name=LeakyReLU)\n          (dp): RecursiveScriptModule(original_name=Dropout)\n          (skip): RecursiveScriptModule(\n            original_name=SkipConnection\n            (proj): RecursiveScriptModule(original_name=Linear)\n          )\n        )\n      )\n      (9): RecursiveScriptModule(\n        original_name=NNConvLayer\n        (nnconv_layer): RecursiveScriptModule(\n          original_name=NNConvBasicLayer\n          (conv): RecursiveScriptModule(\n            original_name=NNConvJittable_4447f8\n            (aggr_module): RecursiveScriptModule(original_name=SumAggregation)\n            (nn): RecursiveScriptModule(\n              original_name=MLP\n              (linear_seq): RecursiveScriptModule(\n                original_name=Sequential\n                (0): RecursiveScriptModule(\n                  original_name=LinearLayer\n                  (dense): RecursiveScriptModule(original_name=Linear)\n                  (bn): RecursiveScriptModule(original_name=BatchNorm1d)\n                  (act): RecursiveScriptModule(original_name=LeakyReLU)\n                  (dp): RecursiveScriptModule(original_name=Dropout)\n                  (skip): RecursiveScriptModule(\n                    original_name=SkipConnection\n                    (proj): RecursiveScriptModule(original_name=Linear)\n                  )\n                )\n                (1): RecursiveScriptModule(\n                  original_name=LinearLayer\n                  (dense): RecursiveScriptModule(original_name=Linear)\n                  (bn): RecursiveScriptModule(original_name=BatchNorm1d)\n                  (act): RecursiveScriptModule(original_name=LeakyReLU)\n                  (dp): RecursiveScriptModule(original_name=Dropout)\n                  (skip): RecursiveScriptModule(\n                    original_name=SkipConnection\n                    (proj): RecursiveScriptModule(original_name=Linear)\n                  )\n                )\n                (2): RecursiveScriptModule(\n                  original_name=LinearLayer\n                  (dense): RecursiveScriptModule(original_name=Linear)\n                  (bn): RecursiveScriptModule(original_name=BatchNorm1d)\n                  (act): RecursiveScriptModule(original_name=LeakyReLU)\n                  (dp): RecursiveScriptModule(original_name=Dropout)\n                  (skip): RecursiveScriptModule(\n                    original_name=SkipConnection\n                    (proj): RecursiveScriptModule(original_name=Linear)\n                  )\n                )\n                (3): RecursiveScriptModule(\n                  original_name=LinearLayer\n                  (dense): RecursiveScriptModule(original_name=Linear)\n                  (bn): RecursiveScriptModule(original_name=BatchNorm1d)\n                  (act): RecursiveScriptModule(original_name=LeakyReLU)\n                  (dp): RecursiveScriptModule(original_name=Dropout)\n                  (skip): RecursiveScriptModule(\n                    original_name=SkipConnection\n                    (proj): RecursiveScriptModule(original_name=Linear)\n                  )\n                )\n                (4): RecursiveScriptModule(\n                  original_name=LinearLayer\n                  (dense): RecursiveScriptModule(original_name=Linear)\n                  (bn): RecursiveScriptModule(original_name=BatchNorm1d)\n                  (act): RecursiveScriptModule(original_name=LeakyReLU)\n                  (dp): RecursiveScriptModule(original_name=Dropout)\n                  (skip): RecursiveScriptModule(\n                    original_name=SkipConnection\n                    (proj): RecursiveScriptModule(original_name=Linear)\n                  )\n                )\n                (5): RecursiveScriptModule(\n                  original_name=LinearLayer\n                  (dense): RecursiveScriptModule(original_name=Linear)\n                  (bn): RecursiveScriptModule(original_name=BatchNorm1d)\n                  (act): RecursiveScriptModule(original_name=LeakyReLU)\n                  (dp): RecursiveScriptModule(original_name=Dropout)\n                  (skip): RecursiveScriptModule(\n                    original_name=SkipConnection\n                    (proj): RecursiveScriptModule(original_name=Linear)\n                  )\n                )\n                (6): RecursiveScriptModule(\n                  original_name=LinearLayer\n                  (dense): RecursiveScriptModule(original_name=Linear)\n                  (bn): RecursiveScriptModule(original_name=BatchNorm1d)\n                  (act): RecursiveScriptModule(original_name=LeakyReLU)\n                  (dp): RecursiveScriptModule(original_name=Dropout)\n                  (skip): RecursiveScriptModule(\n                    original_name=SkipConnection\n                    (proj): RecursiveScriptModule(original_name=Linear)\n                  )\n                )\n                (7): RecursiveScriptModule(\n                  original_name=LinearLayer\n                  (dense): RecursiveScriptModule(original_name=Linear)\n                  (bn): RecursiveScriptModule(original_name=BatchNorm1d)\n                  (act): RecursiveScriptModule(original_name=LeakyReLU)\n                  (dp): RecursiveScriptModule(original_name=Dropout)\n                  (skip): RecursiveScriptModule(\n                    original_name=SkipConnection\n                    (proj): RecursiveScriptModule(original_name=Linear)\n                  )\n                )\n                (8): RecursiveScriptModule(\n                  original_name=LinearLayer\n                  (dense): RecursiveScriptModule(original_name=Linear)\n                  (bn): RecursiveScriptModule(original_name=Identity)\n                  (act): RecursiveScriptModule(original_name=Identity)\n                  (dp): RecursiveScriptModule(original_name=Dropout)\n                  (skip): RecursiveScriptModule(\n                    original_name=SkipConnection\n                    (proj): RecursiveScriptModule(original_name=Linear)\n                  )\n                )\n              )\n            )\n            (lin): RecursiveScriptModule(original_name=Linear)\n          )\n          (dense): RecursiveScriptModule(original_name=Linear)\n          (bn): RecursiveScriptModule(\n            original_name=BatchNormWrapper\n            (bn): RecursiveScriptModule(\n              original_name=BatchNorm\n              (module): RecursiveScriptModule(original_name=BatchNorm1d)\n            )\n          )\n          (act): RecursiveScriptModule(original_name=LeakyReLU)\n          (dp): RecursiveScriptModule(original_name=Dropout)\n          (skip): RecursiveScriptModule(\n            original_name=SkipConnection\n            (proj): RecursiveScriptModule(original_name=Linear)\n          )\n        )\n      )\n    )\n  )\n  (lin): RecursiveScriptModule(original_name=Linear)\n)"
     },
     "execution_count": 17,
     "metadata": {},
     "output_type": "execute_result"
    }
   ],
   "source": [
    "discriminator_script"
   ],
   "metadata": {
    "collapsed": false
   },
   "id": "51261aa411c4d8f8"
  },
  {
   "cell_type": "code",
   "execution_count": 14,
   "outputs": [
    {
     "data": {
      "text/plain": "DataBatch(edge_index=[2, 48892], pos=[1728, 2], G=[64], d_attr=[48892], full_index=[2, 48892], adj_index=[2, 4116], n=[64], m=[64], name=[64], new_entry=[1728, 2], batch=[1728], ptr=[65])"
     },
     "execution_count": 14,
     "metadata": {},
     "output_type": "execute_result"
    }
   ],
   "source": [
    "batch = append_column(batch=batch, tensor=torch.ones(1728, 2), name=\"new_entry\")\n",
    "batch"
   ],
   "metadata": {
    "collapsed": false
   },
   "id": "318dde568946b1f9"
  },
  {
   "cell_type": "code",
   "execution_count": 16,
   "outputs": [
    {
     "data": {
      "text/plain": "[tensor([[1., 1.],\n         [1., 1.],\n         [1., 1.],\n         [1., 1.],\n         [1., 1.],\n         [1., 1.],\n         [1., 1.],\n         [1., 1.],\n         [1., 1.],\n         [1., 1.],\n         [1., 1.],\n         [1., 1.],\n         [1., 1.],\n         [1., 1.],\n         [1., 1.],\n         [1., 1.],\n         [1., 1.],\n         [1., 1.],\n         [1., 1.],\n         [1., 1.],\n         [1., 1.],\n         [1., 1.],\n         [1., 1.],\n         [1., 1.],\n         [1., 1.],\n         [1., 1.],\n         [1., 1.],\n         [1., 1.]]),\n tensor([[1., 1.],\n         [1., 1.],\n         [1., 1.],\n         [1., 1.],\n         [1., 1.],\n         [1., 1.],\n         [1., 1.],\n         [1., 1.],\n         [1., 1.],\n         [1., 1.],\n         [1., 1.],\n         [1., 1.],\n         [1., 1.],\n         [1., 1.],\n         [1., 1.],\n         [1., 1.],\n         [1., 1.],\n         [1., 1.],\n         [1., 1.],\n         [1., 1.],\n         [1., 1.],\n         [1., 1.],\n         [1., 1.],\n         [1., 1.],\n         [1., 1.],\n         [1., 1.]]),\n tensor([[1., 1.],\n         [1., 1.],\n         [1., 1.],\n         [1., 1.],\n         [1., 1.],\n         [1., 1.],\n         [1., 1.],\n         [1., 1.],\n         [1., 1.],\n         [1., 1.],\n         [1., 1.],\n         [1., 1.],\n         [1., 1.],\n         [1., 1.],\n         [1., 1.],\n         [1., 1.],\n         [1., 1.],\n         [1., 1.],\n         [1., 1.],\n         [1., 1.],\n         [1., 1.],\n         [1., 1.],\n         [1., 1.],\n         [1., 1.],\n         [1., 1.],\n         [1., 1.],\n         [1., 1.],\n         [1., 1.],\n         [1., 1.],\n         [1., 1.]]),\n tensor([[1., 1.],\n         [1., 1.],\n         [1., 1.],\n         [1., 1.],\n         [1., 1.],\n         [1., 1.],\n         [1., 1.],\n         [1., 1.],\n         [1., 1.],\n         [1., 1.],\n         [1., 1.],\n         [1., 1.],\n         [1., 1.],\n         [1., 1.],\n         [1., 1.],\n         [1., 1.],\n         [1., 1.],\n         [1., 1.],\n         [1., 1.],\n         [1., 1.],\n         [1., 1.],\n         [1., 1.],\n         [1., 1.],\n         [1., 1.],\n         [1., 1.],\n         [1., 1.],\n         [1., 1.],\n         [1., 1.]]),\n tensor([[1., 1.],\n         [1., 1.],\n         [1., 1.],\n         [1., 1.],\n         [1., 1.],\n         [1., 1.],\n         [1., 1.],\n         [1., 1.],\n         [1., 1.],\n         [1., 1.],\n         [1., 1.],\n         [1., 1.],\n         [1., 1.],\n         [1., 1.],\n         [1., 1.],\n         [1., 1.],\n         [1., 1.],\n         [1., 1.],\n         [1., 1.],\n         [1., 1.]]),\n tensor([[1., 1.],\n         [1., 1.],\n         [1., 1.],\n         [1., 1.],\n         [1., 1.],\n         [1., 1.],\n         [1., 1.],\n         [1., 1.],\n         [1., 1.],\n         [1., 1.],\n         [1., 1.],\n         [1., 1.],\n         [1., 1.],\n         [1., 1.],\n         [1., 1.],\n         [1., 1.],\n         [1., 1.],\n         [1., 1.],\n         [1., 1.],\n         [1., 1.],\n         [1., 1.],\n         [1., 1.],\n         [1., 1.],\n         [1., 1.],\n         [1., 1.],\n         [1., 1.],\n         [1., 1.],\n         [1., 1.],\n         [1., 1.],\n         [1., 1.],\n         [1., 1.],\n         [1., 1.],\n         [1., 1.],\n         [1., 1.],\n         [1., 1.],\n         [1., 1.],\n         [1., 1.],\n         [1., 1.],\n         [1., 1.],\n         [1., 1.],\n         [1., 1.],\n         [1., 1.],\n         [1., 1.]]),\n tensor([[1., 1.],\n         [1., 1.],\n         [1., 1.],\n         [1., 1.],\n         [1., 1.],\n         [1., 1.],\n         [1., 1.],\n         [1., 1.],\n         [1., 1.],\n         [1., 1.],\n         [1., 1.],\n         [1., 1.],\n         [1., 1.],\n         [1., 1.],\n         [1., 1.],\n         [1., 1.],\n         [1., 1.],\n         [1., 1.],\n         [1., 1.],\n         [1., 1.],\n         [1., 1.],\n         [1., 1.],\n         [1., 1.],\n         [1., 1.]]),\n tensor([[1., 1.],\n         [1., 1.],\n         [1., 1.],\n         [1., 1.],\n         [1., 1.],\n         [1., 1.],\n         [1., 1.],\n         [1., 1.],\n         [1., 1.],\n         [1., 1.],\n         [1., 1.],\n         [1., 1.],\n         [1., 1.],\n         [1., 1.],\n         [1., 1.],\n         [1., 1.],\n         [1., 1.],\n         [1., 1.],\n         [1., 1.],\n         [1., 1.],\n         [1., 1.],\n         [1., 1.],\n         [1., 1.],\n         [1., 1.],\n         [1., 1.],\n         [1., 1.],\n         [1., 1.],\n         [1., 1.],\n         [1., 1.],\n         [1., 1.],\n         [1., 1.],\n         [1., 1.],\n         [1., 1.],\n         [1., 1.],\n         [1., 1.],\n         [1., 1.],\n         [1., 1.],\n         [1., 1.],\n         [1., 1.],\n         [1., 1.]]),\n tensor([[1., 1.],\n         [1., 1.],\n         [1., 1.],\n         [1., 1.],\n         [1., 1.],\n         [1., 1.],\n         [1., 1.],\n         [1., 1.],\n         [1., 1.],\n         [1., 1.],\n         [1., 1.],\n         [1., 1.],\n         [1., 1.],\n         [1., 1.],\n         [1., 1.],\n         [1., 1.],\n         [1., 1.],\n         [1., 1.],\n         [1., 1.],\n         [1., 1.]]),\n tensor([[1., 1.],\n         [1., 1.],\n         [1., 1.],\n         [1., 1.],\n         [1., 1.],\n         [1., 1.],\n         [1., 1.],\n         [1., 1.],\n         [1., 1.],\n         [1., 1.],\n         [1., 1.],\n         [1., 1.]]),\n tensor([[1., 1.],\n         [1., 1.],\n         [1., 1.],\n         [1., 1.],\n         [1., 1.],\n         [1., 1.],\n         [1., 1.],\n         [1., 1.],\n         [1., 1.],\n         [1., 1.],\n         [1., 1.],\n         [1., 1.],\n         [1., 1.],\n         [1., 1.],\n         [1., 1.],\n         [1., 1.],\n         [1., 1.],\n         [1., 1.],\n         [1., 1.],\n         [1., 1.],\n         [1., 1.]]),\n tensor([[1., 1.],\n         [1., 1.],\n         [1., 1.],\n         [1., 1.],\n         [1., 1.],\n         [1., 1.],\n         [1., 1.],\n         [1., 1.],\n         [1., 1.],\n         [1., 1.],\n         [1., 1.],\n         [1., 1.],\n         [1., 1.],\n         [1., 1.],\n         [1., 1.],\n         [1., 1.],\n         [1., 1.],\n         [1., 1.],\n         [1., 1.],\n         [1., 1.],\n         [1., 1.],\n         [1., 1.],\n         [1., 1.],\n         [1., 1.],\n         [1., 1.],\n         [1., 1.],\n         [1., 1.],\n         [1., 1.]]),\n tensor([[1., 1.],\n         [1., 1.],\n         [1., 1.],\n         [1., 1.],\n         [1., 1.],\n         [1., 1.],\n         [1., 1.],\n         [1., 1.],\n         [1., 1.],\n         [1., 1.],\n         [1., 1.],\n         [1., 1.],\n         [1., 1.],\n         [1., 1.],\n         [1., 1.],\n         [1., 1.],\n         [1., 1.],\n         [1., 1.],\n         [1., 1.],\n         [1., 1.],\n         [1., 1.],\n         [1., 1.],\n         [1., 1.],\n         [1., 1.],\n         [1., 1.],\n         [1., 1.],\n         [1., 1.],\n         [1., 1.],\n         [1., 1.],\n         [1., 1.],\n         [1., 1.],\n         [1., 1.]]),\n tensor([[1., 1.],\n         [1., 1.],\n         [1., 1.],\n         [1., 1.],\n         [1., 1.],\n         [1., 1.],\n         [1., 1.],\n         [1., 1.],\n         [1., 1.],\n         [1., 1.],\n         [1., 1.],\n         [1., 1.],\n         [1., 1.],\n         [1., 1.],\n         [1., 1.],\n         [1., 1.],\n         [1., 1.],\n         [1., 1.],\n         [1., 1.],\n         [1., 1.],\n         [1., 1.],\n         [1., 1.]]),\n tensor([[1., 1.],\n         [1., 1.],\n         [1., 1.],\n         [1., 1.],\n         [1., 1.],\n         [1., 1.],\n         [1., 1.],\n         [1., 1.],\n         [1., 1.],\n         [1., 1.],\n         [1., 1.],\n         [1., 1.],\n         [1., 1.],\n         [1., 1.],\n         [1., 1.],\n         [1., 1.],\n         [1., 1.],\n         [1., 1.],\n         [1., 1.],\n         [1., 1.],\n         [1., 1.]]),\n tensor([[1., 1.],\n         [1., 1.],\n         [1., 1.],\n         [1., 1.],\n         [1., 1.],\n         [1., 1.],\n         [1., 1.],\n         [1., 1.],\n         [1., 1.],\n         [1., 1.],\n         [1., 1.],\n         [1., 1.],\n         [1., 1.],\n         [1., 1.],\n         [1., 1.],\n         [1., 1.],\n         [1., 1.],\n         [1., 1.],\n         [1., 1.],\n         [1., 1.],\n         [1., 1.],\n         [1., 1.],\n         [1., 1.],\n         [1., 1.],\n         [1., 1.],\n         [1., 1.],\n         [1., 1.],\n         [1., 1.],\n         [1., 1.],\n         [1., 1.],\n         [1., 1.],\n         [1., 1.],\n         [1., 1.],\n         [1., 1.],\n         [1., 1.]]),\n tensor([[1., 1.],\n         [1., 1.],\n         [1., 1.],\n         [1., 1.],\n         [1., 1.],\n         [1., 1.],\n         [1., 1.],\n         [1., 1.],\n         [1., 1.],\n         [1., 1.],\n         [1., 1.],\n         [1., 1.],\n         [1., 1.],\n         [1., 1.],\n         [1., 1.],\n         [1., 1.],\n         [1., 1.],\n         [1., 1.],\n         [1., 1.],\n         [1., 1.],\n         [1., 1.],\n         [1., 1.],\n         [1., 1.],\n         [1., 1.],\n         [1., 1.],\n         [1., 1.],\n         [1., 1.],\n         [1., 1.],\n         [1., 1.],\n         [1., 1.],\n         [1., 1.],\n         [1., 1.],\n         [1., 1.],\n         [1., 1.],\n         [1., 1.],\n         [1., 1.],\n         [1., 1.],\n         [1., 1.],\n         [1., 1.],\n         [1., 1.],\n         [1., 1.],\n         [1., 1.],\n         [1., 1.],\n         [1., 1.],\n         [1., 1.],\n         [1., 1.],\n         [1., 1.],\n         [1., 1.]]),\n tensor([[1., 1.],\n         [1., 1.],\n         [1., 1.],\n         [1., 1.],\n         [1., 1.],\n         [1., 1.],\n         [1., 1.],\n         [1., 1.],\n         [1., 1.],\n         [1., 1.],\n         [1., 1.],\n         [1., 1.],\n         [1., 1.],\n         [1., 1.],\n         [1., 1.],\n         [1., 1.],\n         [1., 1.],\n         [1., 1.],\n         [1., 1.],\n         [1., 1.],\n         [1., 1.],\n         [1., 1.],\n         [1., 1.],\n         [1., 1.],\n         [1., 1.],\n         [1., 1.],\n         [1., 1.],\n         [1., 1.],\n         [1., 1.],\n         [1., 1.],\n         [1., 1.]]),\n tensor([[1., 1.],\n         [1., 1.],\n         [1., 1.],\n         [1., 1.],\n         [1., 1.],\n         [1., 1.],\n         [1., 1.],\n         [1., 1.],\n         [1., 1.],\n         [1., 1.],\n         [1., 1.],\n         [1., 1.],\n         [1., 1.],\n         [1., 1.],\n         [1., 1.],\n         [1., 1.],\n         [1., 1.],\n         [1., 1.],\n         [1., 1.],\n         [1., 1.],\n         [1., 1.],\n         [1., 1.],\n         [1., 1.]]),\n tensor([[1., 1.],\n         [1., 1.],\n         [1., 1.],\n         [1., 1.],\n         [1., 1.],\n         [1., 1.],\n         [1., 1.],\n         [1., 1.],\n         [1., 1.],\n         [1., 1.],\n         [1., 1.],\n         [1., 1.],\n         [1., 1.],\n         [1., 1.],\n         [1., 1.],\n         [1., 1.],\n         [1., 1.],\n         [1., 1.],\n         [1., 1.],\n         [1., 1.],\n         [1., 1.]]),\n tensor([[1., 1.],\n         [1., 1.],\n         [1., 1.],\n         [1., 1.],\n         [1., 1.],\n         [1., 1.],\n         [1., 1.],\n         [1., 1.],\n         [1., 1.],\n         [1., 1.],\n         [1., 1.],\n         [1., 1.],\n         [1., 1.],\n         [1., 1.],\n         [1., 1.],\n         [1., 1.]]),\n tensor([[1., 1.],\n         [1., 1.],\n         [1., 1.],\n         [1., 1.],\n         [1., 1.],\n         [1., 1.],\n         [1., 1.],\n         [1., 1.],\n         [1., 1.],\n         [1., 1.],\n         [1., 1.],\n         [1., 1.],\n         [1., 1.],\n         [1., 1.],\n         [1., 1.],\n         [1., 1.],\n         [1., 1.],\n         [1., 1.],\n         [1., 1.],\n         [1., 1.],\n         [1., 1.],\n         [1., 1.],\n         [1., 1.],\n         [1., 1.],\n         [1., 1.],\n         [1., 1.],\n         [1., 1.],\n         [1., 1.],\n         [1., 1.],\n         [1., 1.],\n         [1., 1.],\n         [1., 1.],\n         [1., 1.],\n         [1., 1.],\n         [1., 1.],\n         [1., 1.],\n         [1., 1.],\n         [1., 1.],\n         [1., 1.],\n         [1., 1.]]),\n tensor([[1., 1.],\n         [1., 1.],\n         [1., 1.],\n         [1., 1.],\n         [1., 1.],\n         [1., 1.],\n         [1., 1.],\n         [1., 1.],\n         [1., 1.],\n         [1., 1.],\n         [1., 1.],\n         [1., 1.],\n         [1., 1.],\n         [1., 1.],\n         [1., 1.],\n         [1., 1.],\n         [1., 1.],\n         [1., 1.],\n         [1., 1.],\n         [1., 1.],\n         [1., 1.],\n         [1., 1.],\n         [1., 1.],\n         [1., 1.],\n         [1., 1.],\n         [1., 1.],\n         [1., 1.],\n         [1., 1.],\n         [1., 1.],\n         [1., 1.]]),\n tensor([[1., 1.],\n         [1., 1.],\n         [1., 1.],\n         [1., 1.],\n         [1., 1.],\n         [1., 1.],\n         [1., 1.],\n         [1., 1.],\n         [1., 1.],\n         [1., 1.],\n         [1., 1.],\n         [1., 1.],\n         [1., 1.],\n         [1., 1.],\n         [1., 1.],\n         [1., 1.],\n         [1., 1.],\n         [1., 1.],\n         [1., 1.],\n         [1., 1.],\n         [1., 1.]]),\n tensor([[1., 1.],\n         [1., 1.],\n         [1., 1.],\n         [1., 1.],\n         [1., 1.],\n         [1., 1.],\n         [1., 1.],\n         [1., 1.],\n         [1., 1.],\n         [1., 1.],\n         [1., 1.],\n         [1., 1.],\n         [1., 1.],\n         [1., 1.],\n         [1., 1.],\n         [1., 1.],\n         [1., 1.],\n         [1., 1.],\n         [1., 1.],\n         [1., 1.],\n         [1., 1.]]),\n tensor([[1., 1.],\n         [1., 1.],\n         [1., 1.],\n         [1., 1.],\n         [1., 1.],\n         [1., 1.],\n         [1., 1.],\n         [1., 1.],\n         [1., 1.],\n         [1., 1.],\n         [1., 1.],\n         [1., 1.],\n         [1., 1.],\n         [1., 1.],\n         [1., 1.],\n         [1., 1.],\n         [1., 1.],\n         [1., 1.],\n         [1., 1.],\n         [1., 1.],\n         [1., 1.],\n         [1., 1.],\n         [1., 1.],\n         [1., 1.],\n         [1., 1.],\n         [1., 1.],\n         [1., 1.],\n         [1., 1.],\n         [1., 1.],\n         [1., 1.],\n         [1., 1.],\n         [1., 1.],\n         [1., 1.],\n         [1., 1.],\n         [1., 1.],\n         [1., 1.],\n         [1., 1.],\n         [1., 1.]]),\n tensor([[1., 1.],\n         [1., 1.],\n         [1., 1.],\n         [1., 1.],\n         [1., 1.],\n         [1., 1.],\n         [1., 1.],\n         [1., 1.],\n         [1., 1.],\n         [1., 1.],\n         [1., 1.],\n         [1., 1.],\n         [1., 1.],\n         [1., 1.],\n         [1., 1.],\n         [1., 1.],\n         [1., 1.],\n         [1., 1.],\n         [1., 1.],\n         [1., 1.],\n         [1., 1.],\n         [1., 1.],\n         [1., 1.],\n         [1., 1.]]),\n tensor([[1., 1.],\n         [1., 1.],\n         [1., 1.],\n         [1., 1.],\n         [1., 1.],\n         [1., 1.],\n         [1., 1.],\n         [1., 1.],\n         [1., 1.],\n         [1., 1.],\n         [1., 1.],\n         [1., 1.],\n         [1., 1.],\n         [1., 1.],\n         [1., 1.],\n         [1., 1.],\n         [1., 1.],\n         [1., 1.],\n         [1., 1.],\n         [1., 1.],\n         [1., 1.],\n         [1., 1.]]),\n tensor([[1., 1.],\n         [1., 1.],\n         [1., 1.],\n         [1., 1.],\n         [1., 1.],\n         [1., 1.],\n         [1., 1.],\n         [1., 1.],\n         [1., 1.],\n         [1., 1.],\n         [1., 1.],\n         [1., 1.],\n         [1., 1.],\n         [1., 1.],\n         [1., 1.],\n         [1., 1.],\n         [1., 1.],\n         [1., 1.],\n         [1., 1.],\n         [1., 1.],\n         [1., 1.],\n         [1., 1.],\n         [1., 1.],\n         [1., 1.],\n         [1., 1.],\n         [1., 1.],\n         [1., 1.],\n         [1., 1.]]),\n tensor([[1., 1.],\n         [1., 1.],\n         [1., 1.],\n         [1., 1.],\n         [1., 1.],\n         [1., 1.],\n         [1., 1.],\n         [1., 1.],\n         [1., 1.],\n         [1., 1.],\n         [1., 1.],\n         [1., 1.],\n         [1., 1.],\n         [1., 1.],\n         [1., 1.],\n         [1., 1.],\n         [1., 1.],\n         [1., 1.],\n         [1., 1.],\n         [1., 1.],\n         [1., 1.],\n         [1., 1.],\n         [1., 1.],\n         [1., 1.],\n         [1., 1.],\n         [1., 1.],\n         [1., 1.],\n         [1., 1.],\n         [1., 1.],\n         [1., 1.],\n         [1., 1.],\n         [1., 1.],\n         [1., 1.]]),\n tensor([[1., 1.],\n         [1., 1.],\n         [1., 1.],\n         [1., 1.],\n         [1., 1.],\n         [1., 1.],\n         [1., 1.],\n         [1., 1.],\n         [1., 1.],\n         [1., 1.],\n         [1., 1.],\n         [1., 1.],\n         [1., 1.],\n         [1., 1.],\n         [1., 1.],\n         [1., 1.],\n         [1., 1.],\n         [1., 1.],\n         [1., 1.],\n         [1., 1.],\n         [1., 1.],\n         [1., 1.],\n         [1., 1.],\n         [1., 1.],\n         [1., 1.],\n         [1., 1.],\n         [1., 1.],\n         [1., 1.],\n         [1., 1.]]),\n tensor([[1., 1.],\n         [1., 1.],\n         [1., 1.],\n         [1., 1.],\n         [1., 1.],\n         [1., 1.],\n         [1., 1.],\n         [1., 1.],\n         [1., 1.],\n         [1., 1.],\n         [1., 1.],\n         [1., 1.]]),\n tensor([[1., 1.],\n         [1., 1.],\n         [1., 1.],\n         [1., 1.],\n         [1., 1.],\n         [1., 1.],\n         [1., 1.],\n         [1., 1.],\n         [1., 1.],\n         [1., 1.],\n         [1., 1.],\n         [1., 1.],\n         [1., 1.],\n         [1., 1.],\n         [1., 1.],\n         [1., 1.],\n         [1., 1.],\n         [1., 1.],\n         [1., 1.],\n         [1., 1.],\n         [1., 1.],\n         [1., 1.],\n         [1., 1.],\n         [1., 1.],\n         [1., 1.],\n         [1., 1.],\n         [1., 1.],\n         [1., 1.],\n         [1., 1.],\n         [1., 1.],\n         [1., 1.]]),\n tensor([[1., 1.],\n         [1., 1.],\n         [1., 1.],\n         [1., 1.],\n         [1., 1.],\n         [1., 1.],\n         [1., 1.],\n         [1., 1.],\n         [1., 1.],\n         [1., 1.],\n         [1., 1.],\n         [1., 1.],\n         [1., 1.],\n         [1., 1.],\n         [1., 1.],\n         [1., 1.],\n         [1., 1.],\n         [1., 1.],\n         [1., 1.],\n         [1., 1.],\n         [1., 1.],\n         [1., 1.]]),\n tensor([[1., 1.],\n         [1., 1.],\n         [1., 1.],\n         [1., 1.],\n         [1., 1.],\n         [1., 1.],\n         [1., 1.],\n         [1., 1.],\n         [1., 1.],\n         [1., 1.],\n         [1., 1.],\n         [1., 1.],\n         [1., 1.],\n         [1., 1.],\n         [1., 1.],\n         [1., 1.],\n         [1., 1.],\n         [1., 1.],\n         [1., 1.],\n         [1., 1.],\n         [1., 1.],\n         [1., 1.],\n         [1., 1.],\n         [1., 1.],\n         [1., 1.],\n         [1., 1.],\n         [1., 1.],\n         [1., 1.],\n         [1., 1.]]),\n tensor([[1., 1.],\n         [1., 1.],\n         [1., 1.],\n         [1., 1.],\n         [1., 1.],\n         [1., 1.],\n         [1., 1.],\n         [1., 1.],\n         [1., 1.],\n         [1., 1.],\n         [1., 1.],\n         [1., 1.],\n         [1., 1.],\n         [1., 1.],\n         [1., 1.],\n         [1., 1.],\n         [1., 1.],\n         [1., 1.],\n         [1., 1.],\n         [1., 1.],\n         [1., 1.],\n         [1., 1.],\n         [1., 1.],\n         [1., 1.],\n         [1., 1.],\n         [1., 1.],\n         [1., 1.],\n         [1., 1.]]),\n tensor([[1., 1.],\n         [1., 1.],\n         [1., 1.],\n         [1., 1.],\n         [1., 1.],\n         [1., 1.],\n         [1., 1.],\n         [1., 1.],\n         [1., 1.],\n         [1., 1.],\n         [1., 1.],\n         [1., 1.],\n         [1., 1.],\n         [1., 1.],\n         [1., 1.],\n         [1., 1.],\n         [1., 1.],\n         [1., 1.],\n         [1., 1.],\n         [1., 1.],\n         [1., 1.],\n         [1., 1.],\n         [1., 1.],\n         [1., 1.],\n         [1., 1.],\n         [1., 1.],\n         [1., 1.],\n         [1., 1.],\n         [1., 1.],\n         [1., 1.],\n         [1., 1.],\n         [1., 1.],\n         [1., 1.],\n         [1., 1.],\n         [1., 1.],\n         [1., 1.],\n         [1., 1.],\n         [1., 1.],\n         [1., 1.],\n         [1., 1.],\n         [1., 1.]]),\n tensor([[1., 1.],\n         [1., 1.],\n         [1., 1.],\n         [1., 1.],\n         [1., 1.],\n         [1., 1.],\n         [1., 1.],\n         [1., 1.],\n         [1., 1.],\n         [1., 1.],\n         [1., 1.],\n         [1., 1.],\n         [1., 1.],\n         [1., 1.],\n         [1., 1.],\n         [1., 1.],\n         [1., 1.],\n         [1., 1.],\n         [1., 1.],\n         [1., 1.],\n         [1., 1.],\n         [1., 1.],\n         [1., 1.],\n         [1., 1.],\n         [1., 1.],\n         [1., 1.],\n         [1., 1.],\n         [1., 1.],\n         [1., 1.],\n         [1., 1.],\n         [1., 1.]]),\n tensor([[1., 1.],\n         [1., 1.],\n         [1., 1.],\n         [1., 1.],\n         [1., 1.],\n         [1., 1.],\n         [1., 1.],\n         [1., 1.],\n         [1., 1.],\n         [1., 1.],\n         [1., 1.],\n         [1., 1.],\n         [1., 1.],\n         [1., 1.],\n         [1., 1.],\n         [1., 1.],\n         [1., 1.],\n         [1., 1.],\n         [1., 1.],\n         [1., 1.],\n         [1., 1.],\n         [1., 1.],\n         [1., 1.],\n         [1., 1.],\n         [1., 1.],\n         [1., 1.],\n         [1., 1.],\n         [1., 1.],\n         [1., 1.],\n         [1., 1.],\n         [1., 1.],\n         [1., 1.],\n         [1., 1.]]),\n tensor([[1., 1.],\n         [1., 1.],\n         [1., 1.],\n         [1., 1.],\n         [1., 1.],\n         [1., 1.],\n         [1., 1.],\n         [1., 1.],\n         [1., 1.],\n         [1., 1.],\n         [1., 1.],\n         [1., 1.],\n         [1., 1.],\n         [1., 1.],\n         [1., 1.],\n         [1., 1.],\n         [1., 1.],\n         [1., 1.],\n         [1., 1.],\n         [1., 1.],\n         [1., 1.]]),\n tensor([[1., 1.],\n         [1., 1.],\n         [1., 1.],\n         [1., 1.],\n         [1., 1.],\n         [1., 1.],\n         [1., 1.],\n         [1., 1.],\n         [1., 1.],\n         [1., 1.],\n         [1., 1.],\n         [1., 1.],\n         [1., 1.],\n         [1., 1.],\n         [1., 1.],\n         [1., 1.],\n         [1., 1.],\n         [1., 1.],\n         [1., 1.],\n         [1., 1.],\n         [1., 1.]]),\n tensor([[1., 1.],\n         [1., 1.],\n         [1., 1.],\n         [1., 1.],\n         [1., 1.],\n         [1., 1.],\n         [1., 1.],\n         [1., 1.],\n         [1., 1.],\n         [1., 1.],\n         [1., 1.],\n         [1., 1.],\n         [1., 1.],\n         [1., 1.],\n         [1., 1.],\n         [1., 1.],\n         [1., 1.],\n         [1., 1.],\n         [1., 1.],\n         [1., 1.],\n         [1., 1.],\n         [1., 1.],\n         [1., 1.],\n         [1., 1.],\n         [1., 1.],\n         [1., 1.],\n         [1., 1.],\n         [1., 1.],\n         [1., 1.],\n         [1., 1.],\n         [1., 1.],\n         [1., 1.],\n         [1., 1.]]),\n tensor([[1., 1.],\n         [1., 1.],\n         [1., 1.],\n         [1., 1.],\n         [1., 1.],\n         [1., 1.],\n         [1., 1.],\n         [1., 1.],\n         [1., 1.],\n         [1., 1.]]),\n tensor([[1., 1.],\n         [1., 1.],\n         [1., 1.],\n         [1., 1.],\n         [1., 1.],\n         [1., 1.],\n         [1., 1.],\n         [1., 1.],\n         [1., 1.],\n         [1., 1.],\n         [1., 1.],\n         [1., 1.],\n         [1., 1.],\n         [1., 1.],\n         [1., 1.],\n         [1., 1.],\n         [1., 1.],\n         [1., 1.],\n         [1., 1.],\n         [1., 1.],\n         [1., 1.]]),\n tensor([[1., 1.],\n         [1., 1.],\n         [1., 1.],\n         [1., 1.],\n         [1., 1.],\n         [1., 1.],\n         [1., 1.],\n         [1., 1.],\n         [1., 1.],\n         [1., 1.],\n         [1., 1.],\n         [1., 1.],\n         [1., 1.],\n         [1., 1.],\n         [1., 1.],\n         [1., 1.],\n         [1., 1.],\n         [1., 1.],\n         [1., 1.],\n         [1., 1.],\n         [1., 1.],\n         [1., 1.],\n         [1., 1.],\n         [1., 1.],\n         [1., 1.],\n         [1., 1.],\n         [1., 1.],\n         [1., 1.],\n         [1., 1.]]),\n tensor([[1., 1.],\n         [1., 1.],\n         [1., 1.],\n         [1., 1.],\n         [1., 1.],\n         [1., 1.],\n         [1., 1.],\n         [1., 1.],\n         [1., 1.],\n         [1., 1.],\n         [1., 1.],\n         [1., 1.],\n         [1., 1.],\n         [1., 1.],\n         [1., 1.],\n         [1., 1.],\n         [1., 1.],\n         [1., 1.],\n         [1., 1.],\n         [1., 1.],\n         [1., 1.]]),\n tensor([[1., 1.],\n         [1., 1.],\n         [1., 1.],\n         [1., 1.],\n         [1., 1.],\n         [1., 1.],\n         [1., 1.],\n         [1., 1.],\n         [1., 1.],\n         [1., 1.],\n         [1., 1.],\n         [1., 1.],\n         [1., 1.],\n         [1., 1.],\n         [1., 1.],\n         [1., 1.],\n         [1., 1.],\n         [1., 1.],\n         [1., 1.],\n         [1., 1.],\n         [1., 1.],\n         [1., 1.],\n         [1., 1.],\n         [1., 1.]]),\n tensor([[1., 1.],\n         [1., 1.],\n         [1., 1.],\n         [1., 1.],\n         [1., 1.],\n         [1., 1.],\n         [1., 1.],\n         [1., 1.],\n         [1., 1.],\n         [1., 1.],\n         [1., 1.],\n         [1., 1.],\n         [1., 1.],\n         [1., 1.],\n         [1., 1.],\n         [1., 1.],\n         [1., 1.],\n         [1., 1.],\n         [1., 1.],\n         [1., 1.],\n         [1., 1.],\n         [1., 1.],\n         [1., 1.],\n         [1., 1.],\n         [1., 1.],\n         [1., 1.],\n         [1., 1.],\n         [1., 1.],\n         [1., 1.],\n         [1., 1.]]),\n tensor([[1., 1.],\n         [1., 1.],\n         [1., 1.],\n         [1., 1.],\n         [1., 1.],\n         [1., 1.],\n         [1., 1.],\n         [1., 1.],\n         [1., 1.],\n         [1., 1.],\n         [1., 1.],\n         [1., 1.],\n         [1., 1.],\n         [1., 1.],\n         [1., 1.],\n         [1., 1.],\n         [1., 1.],\n         [1., 1.],\n         [1., 1.],\n         [1., 1.],\n         [1., 1.],\n         [1., 1.],\n         [1., 1.],\n         [1., 1.],\n         [1., 1.],\n         [1., 1.],\n         [1., 1.],\n         [1., 1.],\n         [1., 1.],\n         [1., 1.],\n         [1., 1.]]),\n tensor([[1., 1.],\n         [1., 1.],\n         [1., 1.],\n         [1., 1.],\n         [1., 1.],\n         [1., 1.],\n         [1., 1.],\n         [1., 1.],\n         [1., 1.],\n         [1., 1.],\n         [1., 1.],\n         [1., 1.],\n         [1., 1.],\n         [1., 1.],\n         [1., 1.],\n         [1., 1.],\n         [1., 1.],\n         [1., 1.],\n         [1., 1.],\n         [1., 1.],\n         [1., 1.],\n         [1., 1.],\n         [1., 1.],\n         [1., 1.]]),\n tensor([[1., 1.],\n         [1., 1.],\n         [1., 1.],\n         [1., 1.],\n         [1., 1.],\n         [1., 1.],\n         [1., 1.],\n         [1., 1.],\n         [1., 1.],\n         [1., 1.],\n         [1., 1.],\n         [1., 1.],\n         [1., 1.],\n         [1., 1.],\n         [1., 1.],\n         [1., 1.],\n         [1., 1.],\n         [1., 1.],\n         [1., 1.],\n         [1., 1.],\n         [1., 1.],\n         [1., 1.],\n         [1., 1.],\n         [1., 1.],\n         [1., 1.]]),\n tensor([[1., 1.],\n         [1., 1.],\n         [1., 1.],\n         [1., 1.],\n         [1., 1.],\n         [1., 1.],\n         [1., 1.],\n         [1., 1.],\n         [1., 1.],\n         [1., 1.],\n         [1., 1.],\n         [1., 1.],\n         [1., 1.],\n         [1., 1.],\n         [1., 1.],\n         [1., 1.],\n         [1., 1.],\n         [1., 1.],\n         [1., 1.],\n         [1., 1.],\n         [1., 1.],\n         [1., 1.]]),\n tensor([[1., 1.],\n         [1., 1.],\n         [1., 1.],\n         [1., 1.],\n         [1., 1.],\n         [1., 1.],\n         [1., 1.],\n         [1., 1.],\n         [1., 1.],\n         [1., 1.],\n         [1., 1.],\n         [1., 1.],\n         [1., 1.],\n         [1., 1.],\n         [1., 1.],\n         [1., 1.],\n         [1., 1.],\n         [1., 1.],\n         [1., 1.],\n         [1., 1.],\n         [1., 1.],\n         [1., 1.],\n         [1., 1.],\n         [1., 1.],\n         [1., 1.],\n         [1., 1.],\n         [1., 1.],\n         [1., 1.],\n         [1., 1.],\n         [1., 1.]]),\n tensor([[1., 1.],\n         [1., 1.],\n         [1., 1.],\n         [1., 1.],\n         [1., 1.],\n         [1., 1.],\n         [1., 1.],\n         [1., 1.],\n         [1., 1.],\n         [1., 1.]]),\n tensor([[1., 1.],\n         [1., 1.],\n         [1., 1.],\n         [1., 1.],\n         [1., 1.],\n         [1., 1.],\n         [1., 1.],\n         [1., 1.],\n         [1., 1.],\n         [1., 1.],\n         [1., 1.],\n         [1., 1.],\n         [1., 1.],\n         [1., 1.],\n         [1., 1.],\n         [1., 1.],\n         [1., 1.],\n         [1., 1.],\n         [1., 1.],\n         [1., 1.],\n         [1., 1.],\n         [1., 1.]]),\n tensor([[1., 1.],\n         [1., 1.],\n         [1., 1.],\n         [1., 1.],\n         [1., 1.],\n         [1., 1.],\n         [1., 1.],\n         [1., 1.],\n         [1., 1.],\n         [1., 1.],\n         [1., 1.],\n         [1., 1.],\n         [1., 1.],\n         [1., 1.],\n         [1., 1.],\n         [1., 1.],\n         [1., 1.],\n         [1., 1.],\n         [1., 1.],\n         [1., 1.],\n         [1., 1.],\n         [1., 1.],\n         [1., 1.],\n         [1., 1.],\n         [1., 1.],\n         [1., 1.],\n         [1., 1.],\n         [1., 1.],\n         [1., 1.],\n         [1., 1.],\n         [1., 1.]]),\n tensor([[1., 1.],\n         [1., 1.],\n         [1., 1.],\n         [1., 1.],\n         [1., 1.],\n         [1., 1.],\n         [1., 1.],\n         [1., 1.],\n         [1., 1.],\n         [1., 1.],\n         [1., 1.],\n         [1., 1.],\n         [1., 1.],\n         [1., 1.],\n         [1., 1.],\n         [1., 1.],\n         [1., 1.],\n         [1., 1.],\n         [1., 1.],\n         [1., 1.],\n         [1., 1.],\n         [1., 1.],\n         [1., 1.],\n         [1., 1.],\n         [1., 1.],\n         [1., 1.]]),\n tensor([[1., 1.],\n         [1., 1.],\n         [1., 1.],\n         [1., 1.],\n         [1., 1.],\n         [1., 1.],\n         [1., 1.],\n         [1., 1.],\n         [1., 1.],\n         [1., 1.],\n         [1., 1.],\n         [1., 1.],\n         [1., 1.],\n         [1., 1.],\n         [1., 1.],\n         [1., 1.],\n         [1., 1.],\n         [1., 1.],\n         [1., 1.],\n         [1., 1.],\n         [1., 1.],\n         [1., 1.],\n         [1., 1.],\n         [1., 1.],\n         [1., 1.],\n         [1., 1.],\n         [1., 1.],\n         [1., 1.],\n         [1., 1.],\n         [1., 1.],\n         [1., 1.],\n         [1., 1.],\n         [1., 1.],\n         [1., 1.],\n         [1., 1.],\n         [1., 1.],\n         [1., 1.],\n         [1., 1.],\n         [1., 1.],\n         [1., 1.],\n         [1., 1.],\n         [1., 1.],\n         [1., 1.],\n         [1., 1.],\n         [1., 1.],\n         [1., 1.],\n         [1., 1.],\n         [1., 1.],\n         [1., 1.]]),\n tensor([[1., 1.],\n         [1., 1.],\n         [1., 1.],\n         [1., 1.],\n         [1., 1.],\n         [1., 1.],\n         [1., 1.],\n         [1., 1.],\n         [1., 1.],\n         [1., 1.],\n         [1., 1.],\n         [1., 1.],\n         [1., 1.],\n         [1., 1.],\n         [1., 1.],\n         [1., 1.],\n         [1., 1.],\n         [1., 1.],\n         [1., 1.],\n         [1., 1.],\n         [1., 1.],\n         [1., 1.],\n         [1., 1.],\n         [1., 1.],\n         [1., 1.],\n         [1., 1.],\n         [1., 1.],\n         [1., 1.],\n         [1., 1.],\n         [1., 1.]]),\n tensor([[1., 1.],\n         [1., 1.],\n         [1., 1.],\n         [1., 1.],\n         [1., 1.],\n         [1., 1.],\n         [1., 1.],\n         [1., 1.],\n         [1., 1.],\n         [1., 1.],\n         [1., 1.],\n         [1., 1.],\n         [1., 1.],\n         [1., 1.],\n         [1., 1.],\n         [1., 1.],\n         [1., 1.],\n         [1., 1.],\n         [1., 1.],\n         [1., 1.],\n         [1., 1.],\n         [1., 1.],\n         [1., 1.],\n         [1., 1.],\n         [1., 1.],\n         [1., 1.],\n         [1., 1.],\n         [1., 1.],\n         [1., 1.],\n         [1., 1.]]),\n tensor([[1., 1.],\n         [1., 1.],\n         [1., 1.],\n         [1., 1.],\n         [1., 1.],\n         [1., 1.],\n         [1., 1.],\n         [1., 1.],\n         [1., 1.],\n         [1., 1.],\n         [1., 1.],\n         [1., 1.],\n         [1., 1.],\n         [1., 1.],\n         [1., 1.],\n         [1., 1.],\n         [1., 1.],\n         [1., 1.],\n         [1., 1.],\n         [1., 1.],\n         [1., 1.],\n         [1., 1.],\n         [1., 1.],\n         [1., 1.],\n         [1., 1.],\n         [1., 1.]]),\n tensor([[1., 1.],\n         [1., 1.],\n         [1., 1.],\n         [1., 1.],\n         [1., 1.],\n         [1., 1.],\n         [1., 1.],\n         [1., 1.],\n         [1., 1.],\n         [1., 1.],\n         [1., 1.],\n         [1., 1.],\n         [1., 1.],\n         [1., 1.],\n         [1., 1.],\n         [1., 1.],\n         [1., 1.],\n         [1., 1.],\n         [1., 1.],\n         [1., 1.],\n         [1., 1.],\n         [1., 1.],\n         [1., 1.],\n         [1., 1.],\n         [1., 1.],\n         [1., 1.],\n         [1., 1.]]),\n tensor([[1., 1.],\n         [1., 1.],\n         [1., 1.],\n         [1., 1.],\n         [1., 1.],\n         [1., 1.],\n         [1., 1.],\n         [1., 1.],\n         [1., 1.],\n         [1., 1.],\n         [1., 1.],\n         [1., 1.],\n         [1., 1.],\n         [1., 1.],\n         [1., 1.],\n         [1., 1.],\n         [1., 1.],\n         [1., 1.],\n         [1., 1.],\n         [1., 1.],\n         [1., 1.],\n         [1., 1.],\n         [1., 1.]]),\n tensor([[1., 1.],\n         [1., 1.],\n         [1., 1.],\n         [1., 1.],\n         [1., 1.],\n         [1., 1.],\n         [1., 1.],\n         [1., 1.],\n         [1., 1.],\n         [1., 1.],\n         [1., 1.],\n         [1., 1.],\n         [1., 1.],\n         [1., 1.],\n         [1., 1.],\n         [1., 1.],\n         [1., 1.],\n         [1., 1.],\n         [1., 1.],\n         [1., 1.],\n         [1., 1.],\n         [1., 1.],\n         [1., 1.],\n         [1., 1.],\n         [1., 1.],\n         [1., 1.],\n         [1., 1.],\n         [1., 1.],\n         [1., 1.],\n         [1., 1.]])]"
     },
     "execution_count": 16,
     "metadata": {},
     "output_type": "execute_result"
    }
   ],
   "source": [
    "[data.new_entry for data in batch.to_data_list()]"
   ],
   "metadata": {
    "collapsed": false
   },
   "id": "c1244e6050f98f22"
  },
  {
   "cell_type": "code",
   "execution_count": 30,
   "outputs": [],
   "source": [
    "data_list = batch.to_data_list()"
   ],
   "metadata": {
    "collapsed": false
   },
   "id": "689840f47c7163ef"
  },
  {
   "cell_type": "code",
   "execution_count": 40,
   "outputs": [],
   "source": [
    "for data in data_list:\n",
    "    data.new_entry = torch.tensor([2])"
   ],
   "metadata": {
    "collapsed": false
   },
   "id": "2aa4bc1072a258c0"
  },
  {
   "cell_type": "code",
   "execution_count": 41,
   "outputs": [],
   "source": [
    "batch = pyg.data.Batch.from_data_list(data_list)"
   ],
   "metadata": {
    "collapsed": false
   },
   "id": "6f6f9442521439a4"
  },
  {
   "cell_type": "code",
   "execution_count": 43,
   "outputs": [
    {
     "data": {
      "text/plain": "64"
     },
     "execution_count": 43,
     "metadata": {},
     "output_type": "execute_result"
    }
   ],
   "source": [
    "len(batch)"
   ],
   "metadata": {
    "collapsed": false
   },
   "id": "3b6285d5c7ff8313"
  },
  {
   "cell_type": "code",
   "execution_count": 42,
   "outputs": [
    {
     "data": {
      "text/plain": "tensor([2])"
     },
     "execution_count": 42,
     "metadata": {},
     "output_type": "execute_result"
    }
   ],
   "source": [
    "batch.to_data_list()[0][\"new_entry\"]"
   ],
   "metadata": {
    "collapsed": false
   },
   "id": "8c60008aa51786d1"
  },
  {
   "cell_type": "code",
   "execution_count": 16,
   "outputs": [
    {
     "data": {
      "text/plain": "  0%|          | 0/181 [00:00<?, ?it/s]",
      "application/vnd.jupyter.widget-view+json": {
       "version_major": 2,
       "version_minor": 0,
       "model_id": "c9b91080e7764c11b1f2e5d3648d9931"
      }
     },
     "metadata": {},
     "output_type": "display_data"
    },
    {
     "name": "stdout",
     "output_type": "stream",
     "text": [
      "tensor([-3406.1494, -2557.2378, -3407.4443, -2074.8945, -1761.1205, -6028.1753,\n",
      "        -1982.8461, -5653.0122, -1579.5651,  -880.7676, -1484.7103, -3406.8242,\n",
      "        -3368.0547, -1820.3566, -2613.1536, -3295.4854, -6686.1240, -3012.8091,\n",
      "        -2532.4937, -1607.4983, -1185.3990, -3687.8538, -3174.2295, -1518.8901,\n",
      "        -1294.4954, -3661.2537, -2251.4443, -2556.8591, -2745.2258, -3669.4155,\n",
      "        -3631.0818,  -906.8660, -2885.2773, -1617.7775, -3777.5596, -2523.0251,\n",
      "        -4691.1655, -4439.7817, -3543.7527, -1927.4789, -1187.1056, -3747.4438,\n",
      "         -632.1102, -1876.3882, -3382.0376, -1950.0465, -2063.1672, -3175.7441,\n",
      "        -2802.1169, -2139.2515, -2089.0508, -1690.7231, -3328.0625,  -497.4807,\n",
      "        -2090.4844, -2694.4092, -1900.6230, -5493.3721, -2569.6853, -3200.0425,\n",
      "        -2209.3030, -2976.2461, -2286.5811, -2644.5830],\n",
      "       grad_fn=<ReshapeAliasBackward0>)\n",
      "['grafo113.28', 'grafo114.26', 'grafo115.30', 'grafo116.28', 'grafo117.20', 'grafo118.43', 'grafo119.24', 'grafo120.40', 'grafo121.20', 'grafo122.12', 'grafo123.21', 'grafo124.28', 'grafo125.32', 'grafo126.22', 'grafo127.21', 'grafo128.35', 'grafo129.48', 'grafo130.31', 'grafo131.23', 'grafo132.21', 'grafo133.16', 'grafo134.40', 'grafo135.30', 'grafo136.21', 'grafo137.21', 'grafo138.38', 'grafo139.24', 'grafo140.22', 'grafo141.28', 'grafo142.33', 'grafo143.29', 'grafo144.12', 'grafo145.31', 'grafo146.22', 'grafo147.29', 'grafo148.28', 'grafo149.41', 'grafo150.31', 'grafo151.33', 'grafo152.21', 'grafo153.21', 'grafo154.33', 'grafo155.10', 'grafo156.21', 'grafo157.29', 'grafo158.21', 'grafo159.24', 'grafo160.30', 'grafo161.31', 'grafo162.24', 'grafo163.25', 'grafo164.22', 'grafo165.30', 'grafo166.10', 'grafo167.22', 'grafo168.31', 'grafo169.26', 'grafo170.49', 'grafo171.30', 'grafo172.30', 'grafo173.26', 'grafo174.27', 'grafo175.23', 'grafo176.30']\n",
      "torch.Size([1728, 2])\n",
      "torch.Size([1728, 2])\n"
     ]
    }
   ],
   "source": [
    "for batch in tqdm(loader):\n",
    "    init_layout = smartgd.data.GraphLayout.from_data(batch)\n",
    "    real_layout = smartgd.data.GraphLayout.from_data(batch, kvstore=layout_store)\n",
    "    # fake_layout = generator(init_layout)\n",
    "    try:\n",
    "        # init_pred = discriminator(init_layout)\n",
    "        real_pred = discriminator(real_layout)\n",
    "        # fake_pred = discriminator(fake_layout)\n",
    "    except Exception:\n",
    "        print(batch.name)\n",
    "        print(init_layout.pos.shape)\n",
    "        print(real_layout.pos.shape)\n",
    "        # print(fake_layout.pos.shape)\n",
    "        break"
   ],
   "metadata": {
    "collapsed": false
   },
   "id": "f18d18bb232db9f2"
  },
  {
   "cell_type": "code",
   "execution_count": null,
   "outputs": [],
   "source": [],
   "metadata": {
    "collapsed": false
   },
   "id": "cc95b340eae39ed1"
  }
 ],
 "metadata": {
  "kernelspec": {
   "display_name": "Python 3 (ipykernel)",
   "language": "python",
   "name": "python3"
  },
  "language_info": {
   "codemirror_mode": {
    "name": "ipython",
    "version": 3
   },
   "file_extension": ".py",
   "mimetype": "text/x-python",
   "name": "python",
   "nbconvert_exporter": "python",
   "pygments_lexer": "ipython3",
   "version": "3.10.8"
  },
  "widgets": {
   "application/vnd.jupyter.widget-state+json": {
    "state": {
     "1a6eaadc214a40b8a2fa048f934db6d0": {
      "model_module": "@jupyter-widgets/controls",
      "model_module_version": "1.5.0",
      "model_name": "HTMLModel",
      "state": {
       "layout": "IPY_MODEL_40c664d572b84ef18b87ead26e1394fd",
       "style": "IPY_MODEL_80769a69b258448ba022beb13ba6364a",
       "value": " 2/79 [03:39&lt;2:08:39, 100.26s/it]"
      }
     },
     "1d73892e8c254708ad3918446d1b971d": {
      "model_module": "@jupyter-widgets/controls",
      "model_module_version": "1.5.0",
      "model_name": "HTMLModel",
      "state": {
       "layout": "IPY_MODEL_27d2c0b03e77463ca2d1ef57e2dbb80c",
       "style": "IPY_MODEL_5a505a3ee60b4cec94a909ee77bc9e88",
       "value": "Loading graphs: 100%"
      }
     },
     "21287ad6d5e94484936bd93b6f85b49f": {
      "model_module": "@jupyter-widgets/controls",
      "model_module_version": "1.5.0",
      "model_name": "DescriptionStyleModel",
      "state": {
       "description_width": ""
      }
     },
     "24c3a3de365e4f25b0a1bea6f0fb668c": {
      "model_module": "@jupyter-widgets/controls",
      "model_module_version": "1.5.0",
      "model_name": "HTMLModel",
      "state": {
       "layout": "IPY_MODEL_7418bd6443174ebf9271fa554d755cb6",
       "style": "IPY_MODEL_89249e08e1e3471682df33d354d7719a",
       "value": " 11534/11534 [02:08&lt;00:00, 135.57it/s]"
      }
     },
     "27d2c0b03e77463ca2d1ef57e2dbb80c": {
      "model_module": "@jupyter-widgets/base",
      "model_module_version": "1.2.0",
      "model_name": "LayoutModel",
      "state": {}
     },
     "40c664d572b84ef18b87ead26e1394fd": {
      "model_module": "@jupyter-widgets/base",
      "model_module_version": "1.2.0",
      "model_name": "LayoutModel",
      "state": {}
     },
     "45147e50fc8f4baebe21cd0514d03651": {
      "model_module": "@jupyter-widgets/base",
      "model_module_version": "1.2.0",
      "model_name": "LayoutModel",
      "state": {}
     },
     "4df22612cbdf457690de3a21e160aa38": {
      "model_module": "@jupyter-widgets/base",
      "model_module_version": "1.2.0",
      "model_name": "LayoutModel",
      "state": {}
     },
     "5a505a3ee60b4cec94a909ee77bc9e88": {
      "model_module": "@jupyter-widgets/controls",
      "model_module_version": "1.5.0",
      "model_name": "DescriptionStyleModel",
      "state": {
       "description_width": ""
      }
     },
     "6e77e20f7c004d279691b884ca326aad": {
      "model_module": "@jupyter-widgets/controls",
      "model_module_version": "1.5.0",
      "model_name": "HBoxModel",
      "state": {
       "children": [
        "IPY_MODEL_8b937b880a894a71a97b31715f2a1f4c",
        "IPY_MODEL_db06b803a3a24d01b9b1c2b1e05ae83a",
        "IPY_MODEL_1a6eaadc214a40b8a2fa048f934db6d0"
       ],
       "layout": "IPY_MODEL_4df22612cbdf457690de3a21e160aa38"
      }
     },
     "73376bdf366c44bfb463627255caa47e": {
      "model_module": "@jupyter-widgets/controls",
      "model_module_version": "1.5.0",
      "model_name": "FloatProgressModel",
      "state": {
       "bar_style": "success",
       "layout": "IPY_MODEL_9e7c9d6193914fe0aaa1eebe6b6c059d",
       "max": 11534,
       "style": "IPY_MODEL_8b02a3651eb54471a990e3928f56d001",
       "value": 11534
      }
     },
     "7418bd6443174ebf9271fa554d755cb6": {
      "model_module": "@jupyter-widgets/base",
      "model_module_version": "1.2.0",
      "model_name": "LayoutModel",
      "state": {}
     },
     "80769a69b258448ba022beb13ba6364a": {
      "model_module": "@jupyter-widgets/controls",
      "model_module_version": "1.5.0",
      "model_name": "DescriptionStyleModel",
      "state": {
       "description_width": ""
      }
     },
     "89249e08e1e3471682df33d354d7719a": {
      "model_module": "@jupyter-widgets/controls",
      "model_module_version": "1.5.0",
      "model_name": "DescriptionStyleModel",
      "state": {
       "description_width": ""
      }
     },
     "8b02a3651eb54471a990e3928f56d001": {
      "model_module": "@jupyter-widgets/controls",
      "model_module_version": "1.5.0",
      "model_name": "ProgressStyleModel",
      "state": {
       "description_width": ""
      }
     },
     "8b937b880a894a71a97b31715f2a1f4c": {
      "model_module": "@jupyter-widgets/controls",
      "model_module_version": "1.5.0",
      "model_name": "HTMLModel",
      "state": {
       "layout": "IPY_MODEL_45147e50fc8f4baebe21cd0514d03651",
       "style": "IPY_MODEL_21287ad6d5e94484936bd93b6f85b49f",
       "value": "  3%"
      }
     },
     "93b07268006b4c8ea3508cc0a8708e7a": {
      "model_module": "@jupyter-widgets/base",
      "model_module_version": "1.2.0",
      "model_name": "LayoutModel",
      "state": {}
     },
     "9e7c9d6193914fe0aaa1eebe6b6c059d": {
      "model_module": "@jupyter-widgets/base",
      "model_module_version": "1.2.0",
      "model_name": "LayoutModel",
      "state": {}
     },
     "db06b803a3a24d01b9b1c2b1e05ae83a": {
      "model_module": "@jupyter-widgets/controls",
      "model_module_version": "1.5.0",
      "model_name": "FloatProgressModel",
      "state": {
       "bar_style": "danger",
       "layout": "IPY_MODEL_f4c410d18e994023b2ba1fc6ed46b5d1",
       "max": 79,
       "style": "IPY_MODEL_e659a35bdcf6428abeb1b6f9c003c325",
       "value": 2
      }
     },
     "dcc6a4b6eeac482ab4b1935722126823": {
      "model_module": "@jupyter-widgets/controls",
      "model_module_version": "1.5.0",
      "model_name": "HBoxModel",
      "state": {
       "children": [
        "IPY_MODEL_1d73892e8c254708ad3918446d1b971d",
        "IPY_MODEL_73376bdf366c44bfb463627255caa47e",
        "IPY_MODEL_24c3a3de365e4f25b0a1bea6f0fb668c"
       ],
       "layout": "IPY_MODEL_93b07268006b4c8ea3508cc0a8708e7a"
      }
     },
     "e659a35bdcf6428abeb1b6f9c003c325": {
      "model_module": "@jupyter-widgets/controls",
      "model_module_version": "1.5.0",
      "model_name": "ProgressStyleModel",
      "state": {
       "description_width": ""
      }
     },
     "f4c410d18e994023b2ba1fc6ed46b5d1": {
      "model_module": "@jupyter-widgets/base",
      "model_module_version": "1.2.0",
      "model_name": "LayoutModel",
      "state": {}
     }
    },
    "version_major": 2,
    "version_minor": 0
   }
  }
 },
 "nbformat": 4,
 "nbformat_minor": 5
}
